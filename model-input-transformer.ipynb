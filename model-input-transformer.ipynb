{
 "cells": [
  {
   "cell_type": "code",
   "execution_count": 1,
   "id": "1c85f1d2-64e2-4c12-9666-2be06d0353a5",
   "metadata": {},
   "outputs": [],
   "source": [
    "import pandas as pd\n",
    "import numpy as np\n",
    "import geopandas as gpd\n",
    "import shapely\n",
    "import sys\n",
    "import warnings\n",
    "\n",
    "sys.path.insert(1, '../config/')\n",
    "import kepler_configs\n",
    "\n",
    "\n",
    "warnings.filterwarnings('ignore')\n",
    "%config Completer.use_jedi = False"
   ]
  },
  {
   "cell_type": "code",
   "execution_count": 106,
   "id": "e08179d1-fb12-40cb-9e38-fad91a5c27c8",
   "metadata": {},
   "outputs": [],
   "source": [
    "lahore_poi_160 = gpd.read_file('../data/vector/dev/LAHORE/gmaps_places/lahore_ind160.shp')\n",
    "lahore_poi_160 = lahore_poi_160[lahore_poi_160.first_type.isin(['locality',\n",
    "'sublocality_level_3',\n",
    "'neighborhood',\n",
    "'sublocality_level_1'])!=True]\n",
    "lahore_poi_160 = lahore_poi_160.reset_index(drop=True)"
   ]
  },
  {
   "cell_type": "code",
   "execution_count": 109,
   "id": "ac2e44ed-dea4-4f77-b096-fc96ea304a7c",
   "metadata": {},
   "outputs": [],
   "source": [
    "lahore_vor = gpd.read_file('../data/vector/dev/LAHORE/gmaps_places/lahore_voronoi_fishnet_1000m_updated.shp')"
   ]
  },
  {
   "cell_type": "code",
   "execution_count": 110,
   "id": "0609fe18-c44f-4ec7-9c22-ef963969b3e9",
   "metadata": {},
   "outputs": [],
   "source": [
    "lahore_poi_160 = gpd.sjoin(lahore_vor,lahore_poi_160,how='right',op='contains')\n",
    "lahore_poi_160 = lahore_poi_160.drop(columns=['index_left','geometry'])"
   ]
  },
  {
   "cell_type": "code",
   "execution_count": 113,
   "id": "b82ceba6-a6e2-4339-9cd4-41db30a342ce",
   "metadata": {},
   "outputs": [],
   "source": [
    "lahore_poi_160.to_csv('../data/processed/lahore_unagg_160vor.csv',index=False)"
   ]
  },
  {
   "cell_type": "code",
   "execution_count": 76,
   "id": "689ed411-8f14-46eb-9184-15bb8976d277",
   "metadata": {},
   "outputs": [],
   "source": [
    "lahore_poi_160 = lahore_poi_160[['vor_id','area_sq','area_sqrt','sum_pop','mean_pop','max_pop','min_pop','place_id',\n",
    "                                 'user_ratin','rating','price_leve','first_type','second_typ']]"
   ]
  },
  {
   "cell_type": "code",
   "execution_count": 77,
   "id": "d193f5b6-a189-46d6-a556-e22b9c0646e4",
   "metadata": {},
   "outputs": [],
   "source": [
    "lahore_poi_160['occurances'] = 1\n",
    "lahore_poi_160 = lahore_poi_160.drop(columns=['place_id'])"
   ]
  },
  {
   "cell_type": "code",
   "execution_count": 58,
   "id": "c094980c-d240-4d73-b8a2-c58bc18b83a4",
   "metadata": {},
   "outputs": [],
   "source": [
    "# pivot_test = lahore_poi_160[['vor_id','first_type','dummy_val']]\n",
    "# pivot_test = pd.pivot_table(pivot_test,index=['vor_id'],columns=['first_type'],fill_value=0).reset_index()\n",
    "# pivot_test.columns = pivot_test.columns.get_level_values(1)\n",
    "# pivot_test.rename(columns={'':'vor_id'})"
   ]
  },
  {
   "cell_type": "code",
   "execution_count": 99,
   "id": "e9124c2e-b3ab-4773-8e4d-b1e400b2bac7",
   "metadata": {
    "tags": []
   },
   "outputs": [],
   "source": [
    "pivoted_lahore_poi = pd.pivot_table(lahore_poi_160,values=['user_ratin','rating','price_leve','occurances'],\n",
    "               index=['vor_id','area_sq','area_sqrt','sum_pop','mean_pop','max_pop','min_pop'],\n",
    "               columns=['first_type'],aggfunc={'occurances':np.sum,\n",
    "                                              'user_ratin':np.sum,\n",
    "                                              'rating':np.mean,\n",
    "                                              'price_leve':np.mean})"
   ]
  },
  {
   "cell_type": "code",
   "execution_count": 100,
   "id": "40fea6c7-9cd4-405c-b500-b5c9b89fdab9",
   "metadata": {},
   "outputs": [],
   "source": [
    "pivoted_lahore_poi.columns = pivoted_lahore_poi.columns.map('-'.join).str.strip('-')\n",
    "pivoted_lahore_poi = pivoted_lahore_poi.reset_index()\n",
    "pivoted_lahore_poi.to_csv('../data/processed/lahore_agg_160vor.csv',index=False)"
   ]
  }
 ],
 "metadata": {
  "kernelspec": {
   "display_name": "Python 3",
   "language": "python",
   "name": "python3"
  },
  "language_info": {
   "codemirror_mode": {
    "name": "ipython",
    "version": 3
   },
   "file_extension": ".py",
   "mimetype": "text/x-python",
   "name": "python",
   "nbconvert_exporter": "python",
   "pygments_lexer": "ipython3",
   "version": "3.6.13"
  }
 },
 "nbformat": 4,
 "nbformat_minor": 5
}
