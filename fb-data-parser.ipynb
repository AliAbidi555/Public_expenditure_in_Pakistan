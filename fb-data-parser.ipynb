{
 "cells": [
  {
   "cell_type": "code",
   "execution_count": 1,
   "id": "dac28e1f-7088-4a73-8964-91ada0e4fbf2",
   "metadata": {},
   "outputs": [],
   "source": [
    "import geopandas as gpd\n",
    "import pandas as pd\n",
    "import numpy as np\n",
    "import rioxarray\n",
    "import rasterio\n",
    "import matplotlib.pyplot as plt\n",
    "import pyproj\n",
    "import warnings\n",
    "import os\n",
    "\n",
    "from functools import partial\n",
    "from shapely.ops import transform,cascaded_union\n",
    "from keplergl import KeplerGl\n",
    "from shapely.geometry import mapping\n",
    "from shapely.wkt import loads\n",
    "from rasterio import plot\n",
    "\n",
    "import sys\n",
    "sys.path.insert(1, '../config/')\n",
    "import kepler_configs\n",
    "\n",
    "import pycrs\n",
    "\n",
    "\n",
    "%matplotlib inline\n",
    "warnings.filterwarnings('ignore')\n",
    "%config Completer.use_jedi = False\n",
    "pd.options.display.max_columns = None"
   ]
  },
  {
   "cell_type": "code",
   "execution_count": 2,
   "id": "b4f69648-512f-40f6-89ca-12c2945de0aa",
   "metadata": {},
   "outputs": [],
   "source": [
    "def getFeatures(gdf):\n",
    "    \"\"\"Function to parse features from GeoDataFrame in such a manner that rasterio wants them\"\"\"\n",
    "    import json\n",
    "    return [json.loads(gdf.to_json())['features'][0]['geometry']]\n"
   ]
  },
  {
   "cell_type": "code",
   "execution_count": 3,
   "id": "bd984d1a-c7c4-4055-961a-ad9118ecf6ef",
   "metadata": {},
   "outputs": [],
   "source": [
    "def flip(x, y):\n",
    "    \"\"\"Flips the x and y coordinate values\"\"\"\n",
    "    return y, x"
   ]
  },
  {
   "cell_type": "markdown",
   "id": "d3b60aa0-bfe6-491c-b882-41915853a758",
   "metadata": {
    "jp-MarkdownHeadingCollapsed": true,
    "tags": []
   },
   "source": [
    "# LAHORE"
   ]
  },
  {
   "cell_type": "code",
   "execution_count": 4,
   "id": "e1c06895-815b-43ef-82cb-ce2b7bf872e8",
   "metadata": {},
   "outputs": [],
   "source": [
    "lahore_grid = gpd.read_file('../data/vector/dev/LAHORE/lahore_voronoi_fishnet_1000m.shp')\n",
    "district_shp_path  = '../data/vector/pak_administrative_shapefiles/District_Boundary.shp'\n",
    "districts_gpd = gpd.read_file(district_shp_path)\n"
   ]
  },
  {
   "cell_type": "code",
   "execution_count": 5,
   "id": "4f9eec83-0d95-4ee5-a03d-7045b2d0ec27",
   "metadata": {},
   "outputs": [],
   "source": [
    "## tiff selector\n",
    "district_name = 'LAHORE' # add district name here\n",
    "select_df = pd.DataFrame(set(districts_gpd[districts_gpd.DISTRICT.isin([district_name])].geometry.values[0].exterior.coords))\n",
    "select_df = select_df.rename(columns={0:'lon',1:'lat'})\n",
    "lat_min,lat_max,lon_min,lon_max = select_df.lat.min(),select_df.lat.max(),select_df.lon.min(),select_df.lon.max()\n",
    "\n",
    "lat_lon = []\n",
    "if((lat_max-lat_min)<1):\n",
    "    lat_range = int((lat_max)/10)*10\n",
    "    lat_lon.append(lat_range)\n",
    "if((lon_max-lon_min)<1):\n",
    "    lon_range = int((lon_max)/10)*10\n",
    "    lat_lon.append(lon_range)"
   ]
  },
  {
   "cell_type": "code",
   "execution_count": 6,
   "id": "c88689d3-840e-4e13-8908-b9e0537c77db",
   "metadata": {},
   "outputs": [],
   "source": [
    "\n",
    "tiff_path_general = {'url':'../data/raster/fb_raw/population_ind_pak_general/population_ind_pak_general/population_{lat}_lon_{lon}_general-v1.5.tif'.format(lat=lat_lon[0],lon=lat_lon[1]),\n",
    "                     'type':'general'}\n",
    "tiff_path_women = {'url':'../data/raster/fb_raw/population_ind_pak_women/population_{lat}_lon_{lon}_women-v1.5.tif'.format(lat=lat_lon[0],lon=lat_lon[1]),\n",
    "                   'type':'women'}\n",
    "tiff_path_youth = {'url':'../data/raster/fb_raw/population_ind_pak_youth_15_24/population_{lat}_lon_{lon}_youth_15_24-v1.5.tif'.format(lat=lat_lon[0],lon=lat_lon[1]),\n",
    "                   'type':'youth'}\n",
    "tiff_path_reproductive = {'url':'../data/raster/fb_raw/population_ind_pak_women_of_reproductive_age_15_49/population_{lat}_lon_{lon}_women_of_reproductive_age_15_49-v1.5.tif'.format(lat=lat_lon[0],lon=lat_lon[1]),\n",
    "                          'type':'reproductive'}\n",
    "tiff_path_elderly = {'url':'../data/raster/fb_raw/population_ind_pak_elderly_60_plus/population_{lat}_lon_{lon}_elderly_60_plus-v1.5.tif'.format(lat=lat_lon[0],lon=lat_lon[1]),\n",
    "                     'type':'elderly'}\n",
    "\n",
    "tiff_list = [tiff_path_general,tiff_path_women,tiff_path_youth,tiff_path_reproductive,tiff_path_elderly]"
   ]
  },
  {
   "cell_type": "code",
   "execution_count": 7,
   "id": "0e6425d9-b405-4429-a43f-cfd238676e72",
   "metadata": {},
   "outputs": [
    {
     "name": "stdout",
     "output_type": "stream",
     "text": [
      "../data/raster/fb_raw/population_ind_pak_elderly_60_plus/population_30_lon_70_elderly_60_plus-v1.5.tif\n",
      "read masked\n",
      "aggregates done\n",
      "User Guide: https://docs.kepler.gl/docs/keplergl-jupyter\n",
      "Map saved to ../viz/lahore_pop_grid_elderly_fb.html!\n",
      "saved\n"
     ]
    }
   ],
   "source": [
    "for tiff in tiff_list[4:5]:\n",
    "    path = tiff['url']\n",
    "    print(path)\n",
    "    type_ = tiff['type']\n",
    "    out_tiff = '../data/dev/masked.tiff'\n",
    "\n",
    "    req_rasterio = rasterio.open(path)\n",
    "    coords = getFeatures(districts_gpd[districts_gpd.DISTRICT.isin([district_name])])\n",
    "    out_img, out_transform = rasterio.mask.mask(dataset=req_rasterio, shapes=coords, crop=True)\n",
    "    out_meta = req_rasterio.meta.copy()\n",
    "    epsg_code = int(req_rasterio.crs.data['init'][5:])\n",
    "    out_meta.update({\"driver\": \"GTiff\",\"height\": out_img.shape[1],\"width\": out_img.shape[2],\n",
    "                     \"transform\": out_transform,\"crs\": pycrs.parse.from_epsg_code(epsg_code).to_proj4()})\n",
    "\n",
    "    with rasterio.open(out_tiff, \"w\", **out_meta) as dest:\n",
    "        dest.write(out_img)\n",
    "        dest.close()\n",
    "        \n",
    "    print('read masked')\n",
    "        \n",
    "    lahore_pop_temp = rasterio.open(out_tiff)\n",
    "    lahore_pop = rioxarray.open_rasterio(lahore_pop_temp)\n",
    "    lahore_pop = lahore_pop.fillna(0)\n",
    "    grid_stats = []\n",
    "    \n",
    "    for ind,row in lahore_grid.iterrows():\n",
    "        poly = row.geometry\n",
    "        poly = transform(flip, poly)\n",
    "        geom = mapping(loads(str(poly)))\n",
    "        grid_pop = lahore_pop.rio.clip([geom],'EPSG:4326',drop=True)\n",
    "        sum_pop = grid_pop.sum().values.item()\n",
    "        mean_pop = grid_pop.mean().values.item()\n",
    "        max_pop = grid_pop.max().values.item()\n",
    "        min_pop = grid_pop.min().values.item()\n",
    "        std_pop = grid_pop.std().values.item()\n",
    "\n",
    "\n",
    "        val_dict = {\n",
    "        'vor_id':row.vor_id,\n",
    "        'sum_pop_{TYPE}'.format(TYPE=type_):sum_pop,\n",
    "        'mean_pop_{TYPE}'.format(TYPE=type_):mean_pop,\n",
    "        'max_pop_{TYPE}'.format(TYPE=type_):max_pop,\n",
    "        'min_pop_{TYPE}'.format(TYPE=type_):min_pop,\n",
    "        'std_pop_{TYPE}'.format(TYPE=type_):std_pop\n",
    "        }\n",
    "        grid_stats.append(val_dict)\n",
    "        \n",
    "    print('aggregates done') \n",
    "    \n",
    "    grid_stats_fb = pd.DataFrame(grid_stats)\n",
    "    grid_stats_fb = pd.merge(lahore_grid,grid_stats_fb)\n",
    "    grid_stats_fb['geometry'] = grid_stats_fb.geometry.apply(lambda x: transform(flip,x))\n",
    "    grid_stats_fb.to_csv('../data/summary-stats/lhr_pop_vor_fb_{TYPE}.csv'.format(TYPE=type_),index=False)\n",
    "    grid_stats_fb_gpd = gpd.GeoDataFrame(grid_stats_fb,geometry='geometry')\n",
    "    map_ = KeplerGl(height=5000)\n",
    "    map_.add_data(data=grid_stats_fb_gpd,name='lahore_pop')\n",
    "    #map_.save_to_html(file_name='temp.html',config=kepler_configs.lahore_pop_grid)\n",
    "    map_.save_to_html(file_name='../viz/lahore_pop_grid_{TYPE}_fb.html'.format(TYPE=type_),config=kepler_configs.lahore_pop_grid,read_only=False)\n",
    "    \n",
    "    del req_rasterio\n",
    "    del coords\n",
    "    del out_img\n",
    "    del out_meta\n",
    "    del out_transform\n",
    "    del lahore_pop\n",
    "    del lahore_pop_temp\n",
    "    del grid_pop\n",
    "    del grid_stats\n",
    "    del grid_stats_fb\n",
    "    del grid_stats_fb_gpd\n",
    "    \n",
    "    print('saved')"
   ]
  },
  {
   "cell_type": "code",
   "execution_count": 10,
   "id": "133391c1-6d4b-4378-9dbb-7bfcd289d078",
   "metadata": {},
   "outputs": [],
   "source": [
    "# combine data in one file\n",
    "\n",
    "import os\n",
    "from functools import reduce\n",
    "\n",
    "fb_stats = os.listdir('../data/summary-stats/')\n",
    "fb_stats = [fb for fb in fb_stats if 'lhr_pop_vor_' in fb]\n",
    "fb_stats = [fb for fb in fb_stats if 'combined' not in fb]\n",
    "fb_stats = ['../data/summary-stats/'+fb for fb in fb_stats]\n",
    "fb_stats = [pd.read_csv(fb) for fb in fb_stats]\n",
    "#fb_stats[5] = fb_stats[5].drop(columns=['Unnamed: 0'])\n",
    "fb_stats = [fb.drop(columns=['area_sq','area_sqrt','geometry']) for fb in fb_stats]\n",
    "\n",
    "fb_stats_combined = df = reduce(lambda df1,df2: pd.merge(df1,df2,on='vor_id'), fb_stats)\n",
    "fb_stats_combined = fb_stats_combined.fillna(0)\n",
    "fb_stats_combined.to_csv('../data/summary-stats/lhr_pop_vor_fb_combined.csv',index=False)"
   ]
  },
  {
   "cell_type": "markdown",
   "id": "9a7dfa3e-eb08-4d7f-9c15-dd6fb0d0081f",
   "metadata": {
    "jp-MarkdownHeadingCollapsed": true,
    "tags": []
   },
   "source": [
    "## creating shapefile of fb parsed"
   ]
  },
  {
   "cell_type": "code",
   "execution_count": 11,
   "id": "fe16138e-b20c-4b3f-8acc-ff0505a2a1f7",
   "metadata": {},
   "outputs": [
    {
     "ename": "KeyError",
     "evalue": "\"['Unnamed: 0' 'area_sq' 'area_sqrt' 'geometry'] not found in axis\"",
     "output_type": "error",
     "traceback": [
      "\u001b[0;31m---------------------------------------------------------------------------\u001b[0m",
      "\u001b[0;31mKeyError\u001b[0m                                  Traceback (most recent call last)",
      "\u001b[0;32m<ipython-input-11-69c73252ceb7>\u001b[0m in \u001b[0;36m<module>\u001b[0;34m\u001b[0m\n\u001b[1;32m      7\u001b[0m \u001b[0mfb_stats\u001b[0m \u001b[0;34m=\u001b[0m \u001b[0;34m[\u001b[0m\u001b[0mpd\u001b[0m\u001b[0;34m.\u001b[0m\u001b[0mread_csv\u001b[0m\u001b[0;34m(\u001b[0m\u001b[0mfb\u001b[0m\u001b[0;34m)\u001b[0m \u001b[0;32mfor\u001b[0m \u001b[0mfb\u001b[0m \u001b[0;32min\u001b[0m \u001b[0mfb_stats\u001b[0m\u001b[0;34m]\u001b[0m\u001b[0;34m\u001b[0m\u001b[0;34m\u001b[0m\u001b[0m\n\u001b[1;32m      8\u001b[0m fb_stats = [fb.drop(columns=['Unnamed: 0','area_sq',\n\u001b[0;32m----> 9\u001b[0;31m                              'area_sqrt','geometry']) for fb in fb_stats]\n\u001b[0m",
      "\u001b[0;32m<ipython-input-11-69c73252ceb7>\u001b[0m in \u001b[0;36m<listcomp>\u001b[0;34m(.0)\u001b[0m\n\u001b[1;32m      7\u001b[0m \u001b[0mfb_stats\u001b[0m \u001b[0;34m=\u001b[0m \u001b[0;34m[\u001b[0m\u001b[0mpd\u001b[0m\u001b[0;34m.\u001b[0m\u001b[0mread_csv\u001b[0m\u001b[0;34m(\u001b[0m\u001b[0mfb\u001b[0m\u001b[0;34m)\u001b[0m \u001b[0;32mfor\u001b[0m \u001b[0mfb\u001b[0m \u001b[0;32min\u001b[0m \u001b[0mfb_stats\u001b[0m\u001b[0;34m]\u001b[0m\u001b[0;34m\u001b[0m\u001b[0;34m\u001b[0m\u001b[0m\n\u001b[1;32m      8\u001b[0m fb_stats = [fb.drop(columns=['Unnamed: 0','area_sq',\n\u001b[0;32m----> 9\u001b[0;31m                              'area_sqrt','geometry']) for fb in fb_stats]\n\u001b[0m",
      "\u001b[0;32m~/anaconda3/envs/jugnu/lib/python3.6/site-packages/pandas/core/frame.py\u001b[0m in \u001b[0;36mdrop\u001b[0;34m(self, labels, axis, index, columns, level, inplace, errors)\u001b[0m\n\u001b[1;32m   4172\u001b[0m             \u001b[0mlevel\u001b[0m\u001b[0;34m=\u001b[0m\u001b[0mlevel\u001b[0m\u001b[0;34m,\u001b[0m\u001b[0;34m\u001b[0m\u001b[0;34m\u001b[0m\u001b[0m\n\u001b[1;32m   4173\u001b[0m             \u001b[0minplace\u001b[0m\u001b[0;34m=\u001b[0m\u001b[0minplace\u001b[0m\u001b[0;34m,\u001b[0m\u001b[0;34m\u001b[0m\u001b[0;34m\u001b[0m\u001b[0m\n\u001b[0;32m-> 4174\u001b[0;31m             \u001b[0merrors\u001b[0m\u001b[0;34m=\u001b[0m\u001b[0merrors\u001b[0m\u001b[0;34m,\u001b[0m\u001b[0;34m\u001b[0m\u001b[0;34m\u001b[0m\u001b[0m\n\u001b[0m\u001b[1;32m   4175\u001b[0m         )\n\u001b[1;32m   4176\u001b[0m \u001b[0;34m\u001b[0m\u001b[0m\n",
      "\u001b[0;32m~/anaconda3/envs/jugnu/lib/python3.6/site-packages/pandas/core/generic.py\u001b[0m in \u001b[0;36mdrop\u001b[0;34m(self, labels, axis, index, columns, level, inplace, errors)\u001b[0m\n\u001b[1;32m   3887\u001b[0m         \u001b[0;32mfor\u001b[0m \u001b[0maxis\u001b[0m\u001b[0;34m,\u001b[0m \u001b[0mlabels\u001b[0m \u001b[0;32min\u001b[0m \u001b[0maxes\u001b[0m\u001b[0;34m.\u001b[0m\u001b[0mitems\u001b[0m\u001b[0;34m(\u001b[0m\u001b[0;34m)\u001b[0m\u001b[0;34m:\u001b[0m\u001b[0;34m\u001b[0m\u001b[0;34m\u001b[0m\u001b[0m\n\u001b[1;32m   3888\u001b[0m             \u001b[0;32mif\u001b[0m \u001b[0mlabels\u001b[0m \u001b[0;32mis\u001b[0m \u001b[0;32mnot\u001b[0m \u001b[0;32mNone\u001b[0m\u001b[0;34m:\u001b[0m\u001b[0;34m\u001b[0m\u001b[0;34m\u001b[0m\u001b[0m\n\u001b[0;32m-> 3889\u001b[0;31m                 \u001b[0mobj\u001b[0m \u001b[0;34m=\u001b[0m \u001b[0mobj\u001b[0m\u001b[0;34m.\u001b[0m\u001b[0m_drop_axis\u001b[0m\u001b[0;34m(\u001b[0m\u001b[0mlabels\u001b[0m\u001b[0;34m,\u001b[0m \u001b[0maxis\u001b[0m\u001b[0;34m,\u001b[0m \u001b[0mlevel\u001b[0m\u001b[0;34m=\u001b[0m\u001b[0mlevel\u001b[0m\u001b[0;34m,\u001b[0m \u001b[0merrors\u001b[0m\u001b[0;34m=\u001b[0m\u001b[0merrors\u001b[0m\u001b[0;34m)\u001b[0m\u001b[0;34m\u001b[0m\u001b[0;34m\u001b[0m\u001b[0m\n\u001b[0m\u001b[1;32m   3890\u001b[0m \u001b[0;34m\u001b[0m\u001b[0m\n\u001b[1;32m   3891\u001b[0m         \u001b[0;32mif\u001b[0m \u001b[0minplace\u001b[0m\u001b[0;34m:\u001b[0m\u001b[0;34m\u001b[0m\u001b[0;34m\u001b[0m\u001b[0m\n",
      "\u001b[0;32m~/anaconda3/envs/jugnu/lib/python3.6/site-packages/pandas/core/generic.py\u001b[0m in \u001b[0;36m_drop_axis\u001b[0;34m(self, labels, axis, level, errors)\u001b[0m\n\u001b[1;32m   3921\u001b[0m                 \u001b[0mnew_axis\u001b[0m \u001b[0;34m=\u001b[0m \u001b[0maxis\u001b[0m\u001b[0;34m.\u001b[0m\u001b[0mdrop\u001b[0m\u001b[0;34m(\u001b[0m\u001b[0mlabels\u001b[0m\u001b[0;34m,\u001b[0m \u001b[0mlevel\u001b[0m\u001b[0;34m=\u001b[0m\u001b[0mlevel\u001b[0m\u001b[0;34m,\u001b[0m \u001b[0merrors\u001b[0m\u001b[0;34m=\u001b[0m\u001b[0merrors\u001b[0m\u001b[0;34m)\u001b[0m\u001b[0;34m\u001b[0m\u001b[0;34m\u001b[0m\u001b[0m\n\u001b[1;32m   3922\u001b[0m             \u001b[0;32melse\u001b[0m\u001b[0;34m:\u001b[0m\u001b[0;34m\u001b[0m\u001b[0;34m\u001b[0m\u001b[0m\n\u001b[0;32m-> 3923\u001b[0;31m                 \u001b[0mnew_axis\u001b[0m \u001b[0;34m=\u001b[0m \u001b[0maxis\u001b[0m\u001b[0;34m.\u001b[0m\u001b[0mdrop\u001b[0m\u001b[0;34m(\u001b[0m\u001b[0mlabels\u001b[0m\u001b[0;34m,\u001b[0m \u001b[0merrors\u001b[0m\u001b[0;34m=\u001b[0m\u001b[0merrors\u001b[0m\u001b[0;34m)\u001b[0m\u001b[0;34m\u001b[0m\u001b[0;34m\u001b[0m\u001b[0m\n\u001b[0m\u001b[1;32m   3924\u001b[0m             \u001b[0mresult\u001b[0m \u001b[0;34m=\u001b[0m \u001b[0mself\u001b[0m\u001b[0;34m.\u001b[0m\u001b[0mreindex\u001b[0m\u001b[0;34m(\u001b[0m\u001b[0;34m**\u001b[0m\u001b[0;34m{\u001b[0m\u001b[0maxis_name\u001b[0m\u001b[0;34m:\u001b[0m \u001b[0mnew_axis\u001b[0m\u001b[0;34m}\u001b[0m\u001b[0;34m)\u001b[0m\u001b[0;34m\u001b[0m\u001b[0;34m\u001b[0m\u001b[0m\n\u001b[1;32m   3925\u001b[0m \u001b[0;34m\u001b[0m\u001b[0m\n",
      "\u001b[0;32m~/anaconda3/envs/jugnu/lib/python3.6/site-packages/pandas/core/indexes/base.py\u001b[0m in \u001b[0;36mdrop\u001b[0;34m(self, labels, errors)\u001b[0m\n\u001b[1;32m   5285\u001b[0m         \u001b[0;32mif\u001b[0m \u001b[0mmask\u001b[0m\u001b[0;34m.\u001b[0m\u001b[0many\u001b[0m\u001b[0;34m(\u001b[0m\u001b[0;34m)\u001b[0m\u001b[0;34m:\u001b[0m\u001b[0;34m\u001b[0m\u001b[0;34m\u001b[0m\u001b[0m\n\u001b[1;32m   5286\u001b[0m             \u001b[0;32mif\u001b[0m \u001b[0merrors\u001b[0m \u001b[0;34m!=\u001b[0m \u001b[0;34m\"ignore\"\u001b[0m\u001b[0;34m:\u001b[0m\u001b[0;34m\u001b[0m\u001b[0;34m\u001b[0m\u001b[0m\n\u001b[0;32m-> 5287\u001b[0;31m                 \u001b[0;32mraise\u001b[0m \u001b[0mKeyError\u001b[0m\u001b[0;34m(\u001b[0m\u001b[0;34mf\"{labels[mask]} not found in axis\"\u001b[0m\u001b[0;34m)\u001b[0m\u001b[0;34m\u001b[0m\u001b[0;34m\u001b[0m\u001b[0m\n\u001b[0m\u001b[1;32m   5288\u001b[0m             \u001b[0mindexer\u001b[0m \u001b[0;34m=\u001b[0m \u001b[0mindexer\u001b[0m\u001b[0;34m[\u001b[0m\u001b[0;34m~\u001b[0m\u001b[0mmask\u001b[0m\u001b[0;34m]\u001b[0m\u001b[0;34m\u001b[0m\u001b[0;34m\u001b[0m\u001b[0m\n\u001b[1;32m   5289\u001b[0m         \u001b[0;32mreturn\u001b[0m \u001b[0mself\u001b[0m\u001b[0;34m.\u001b[0m\u001b[0mdelete\u001b[0m\u001b[0;34m(\u001b[0m\u001b[0mindexer\u001b[0m\u001b[0;34m)\u001b[0m\u001b[0;34m\u001b[0m\u001b[0;34m\u001b[0m\u001b[0m\n",
      "\u001b[0;31mKeyError\u001b[0m: \"['Unnamed: 0' 'area_sq' 'area_sqrt' 'geometry'] not found in axis\""
     ]
    }
   ],
   "source": [
    "import os\n",
    "from functools import reduce\n",
    "\n",
    "fb_stats = os.listdir('../data/summary-stats/')\n",
    "fb_stats = [fb for fb in fb_stats if 'fb' in fb]\n",
    "fb_stats = ['../data/summary-stats/'+fb for fb in fb_stats]\n",
    "fb_stats = [pd.read_csv(fb) for fb in fb_stats]\n",
    "fb_stats = [fb.drop(columns=['Unnamed: 0','area_sq','area_sqrt','geometry']) for fb in fb_stats]"
   ]
  },
  {
   "cell_type": "code",
   "execution_count": 6,
   "id": "52bd4811-c872-4791-882e-011592f350e6",
   "metadata": {},
   "outputs": [
    {
     "ename": "KeyError",
     "evalue": "\"['Unnamed: 0' 'area_sq' 'area_sqrt' 'geometry'] not found in axis\"",
     "output_type": "error",
     "traceback": [
      "\u001b[0;31m---------------------------------------------------------------------------\u001b[0m",
      "\u001b[0;31mKeyError\u001b[0m                                  Traceback (most recent call last)",
      "\u001b[0;32m<ipython-input-6-d2c53d4c3688>\u001b[0m in \u001b[0;36m<module>\u001b[0;34m\u001b[0m\n\u001b[1;32m      4\u001b[0m \u001b[0mfb_stats\u001b[0m \u001b[0;34m=\u001b[0m \u001b[0;34m[\u001b[0m\u001b[0mpd\u001b[0m\u001b[0;34m.\u001b[0m\u001b[0mread_csv\u001b[0m\u001b[0;34m(\u001b[0m\u001b[0mfb\u001b[0m\u001b[0;34m)\u001b[0m \u001b[0;32mfor\u001b[0m \u001b[0mfb\u001b[0m \u001b[0;32min\u001b[0m \u001b[0mfb_stats\u001b[0m\u001b[0;34m]\u001b[0m\u001b[0;34m\u001b[0m\u001b[0;34m\u001b[0m\u001b[0m\n\u001b[1;32m      5\u001b[0m fb_stats = [fb.drop(columns=['Unnamed: 0','area_sq',\n\u001b[0;32m----> 6\u001b[0;31m                              'area_sqrt','geometry']) for fb in fb_stats]\n\u001b[0m",
      "\u001b[0;32m<ipython-input-6-d2c53d4c3688>\u001b[0m in \u001b[0;36m<listcomp>\u001b[0;34m(.0)\u001b[0m\n\u001b[1;32m      4\u001b[0m \u001b[0mfb_stats\u001b[0m \u001b[0;34m=\u001b[0m \u001b[0;34m[\u001b[0m\u001b[0mpd\u001b[0m\u001b[0;34m.\u001b[0m\u001b[0mread_csv\u001b[0m\u001b[0;34m(\u001b[0m\u001b[0mfb\u001b[0m\u001b[0;34m)\u001b[0m \u001b[0;32mfor\u001b[0m \u001b[0mfb\u001b[0m \u001b[0;32min\u001b[0m \u001b[0mfb_stats\u001b[0m\u001b[0;34m]\u001b[0m\u001b[0;34m\u001b[0m\u001b[0;34m\u001b[0m\u001b[0m\n\u001b[1;32m      5\u001b[0m fb_stats = [fb.drop(columns=['Unnamed: 0','area_sq',\n\u001b[0;32m----> 6\u001b[0;31m                              'area_sqrt','geometry']) for fb in fb_stats]\n\u001b[0m",
      "\u001b[0;32m~/anaconda3/envs/jugnu/lib/python3.6/site-packages/pandas/core/frame.py\u001b[0m in \u001b[0;36mdrop\u001b[0;34m(self, labels, axis, index, columns, level, inplace, errors)\u001b[0m\n\u001b[1;32m   4172\u001b[0m             \u001b[0mlevel\u001b[0m\u001b[0;34m=\u001b[0m\u001b[0mlevel\u001b[0m\u001b[0;34m,\u001b[0m\u001b[0;34m\u001b[0m\u001b[0;34m\u001b[0m\u001b[0m\n\u001b[1;32m   4173\u001b[0m             \u001b[0minplace\u001b[0m\u001b[0;34m=\u001b[0m\u001b[0minplace\u001b[0m\u001b[0;34m,\u001b[0m\u001b[0;34m\u001b[0m\u001b[0;34m\u001b[0m\u001b[0m\n\u001b[0;32m-> 4174\u001b[0;31m             \u001b[0merrors\u001b[0m\u001b[0;34m=\u001b[0m\u001b[0merrors\u001b[0m\u001b[0;34m,\u001b[0m\u001b[0;34m\u001b[0m\u001b[0;34m\u001b[0m\u001b[0m\n\u001b[0m\u001b[1;32m   4175\u001b[0m         )\n\u001b[1;32m   4176\u001b[0m \u001b[0;34m\u001b[0m\u001b[0m\n",
      "\u001b[0;32m~/anaconda3/envs/jugnu/lib/python3.6/site-packages/pandas/core/generic.py\u001b[0m in \u001b[0;36mdrop\u001b[0;34m(self, labels, axis, index, columns, level, inplace, errors)\u001b[0m\n\u001b[1;32m   3887\u001b[0m         \u001b[0;32mfor\u001b[0m \u001b[0maxis\u001b[0m\u001b[0;34m,\u001b[0m \u001b[0mlabels\u001b[0m \u001b[0;32min\u001b[0m \u001b[0maxes\u001b[0m\u001b[0;34m.\u001b[0m\u001b[0mitems\u001b[0m\u001b[0;34m(\u001b[0m\u001b[0;34m)\u001b[0m\u001b[0;34m:\u001b[0m\u001b[0;34m\u001b[0m\u001b[0;34m\u001b[0m\u001b[0m\n\u001b[1;32m   3888\u001b[0m             \u001b[0;32mif\u001b[0m \u001b[0mlabels\u001b[0m \u001b[0;32mis\u001b[0m \u001b[0;32mnot\u001b[0m \u001b[0;32mNone\u001b[0m\u001b[0;34m:\u001b[0m\u001b[0;34m\u001b[0m\u001b[0;34m\u001b[0m\u001b[0m\n\u001b[0;32m-> 3889\u001b[0;31m                 \u001b[0mobj\u001b[0m \u001b[0;34m=\u001b[0m \u001b[0mobj\u001b[0m\u001b[0;34m.\u001b[0m\u001b[0m_drop_axis\u001b[0m\u001b[0;34m(\u001b[0m\u001b[0mlabels\u001b[0m\u001b[0;34m,\u001b[0m \u001b[0maxis\u001b[0m\u001b[0;34m,\u001b[0m \u001b[0mlevel\u001b[0m\u001b[0;34m=\u001b[0m\u001b[0mlevel\u001b[0m\u001b[0;34m,\u001b[0m \u001b[0merrors\u001b[0m\u001b[0;34m=\u001b[0m\u001b[0merrors\u001b[0m\u001b[0;34m)\u001b[0m\u001b[0;34m\u001b[0m\u001b[0;34m\u001b[0m\u001b[0m\n\u001b[0m\u001b[1;32m   3890\u001b[0m \u001b[0;34m\u001b[0m\u001b[0m\n\u001b[1;32m   3891\u001b[0m         \u001b[0;32mif\u001b[0m \u001b[0minplace\u001b[0m\u001b[0;34m:\u001b[0m\u001b[0;34m\u001b[0m\u001b[0;34m\u001b[0m\u001b[0m\n",
      "\u001b[0;32m~/anaconda3/envs/jugnu/lib/python3.6/site-packages/pandas/core/generic.py\u001b[0m in \u001b[0;36m_drop_axis\u001b[0;34m(self, labels, axis, level, errors)\u001b[0m\n\u001b[1;32m   3921\u001b[0m                 \u001b[0mnew_axis\u001b[0m \u001b[0;34m=\u001b[0m \u001b[0maxis\u001b[0m\u001b[0;34m.\u001b[0m\u001b[0mdrop\u001b[0m\u001b[0;34m(\u001b[0m\u001b[0mlabels\u001b[0m\u001b[0;34m,\u001b[0m \u001b[0mlevel\u001b[0m\u001b[0;34m=\u001b[0m\u001b[0mlevel\u001b[0m\u001b[0;34m,\u001b[0m \u001b[0merrors\u001b[0m\u001b[0;34m=\u001b[0m\u001b[0merrors\u001b[0m\u001b[0;34m)\u001b[0m\u001b[0;34m\u001b[0m\u001b[0;34m\u001b[0m\u001b[0m\n\u001b[1;32m   3922\u001b[0m             \u001b[0;32melse\u001b[0m\u001b[0;34m:\u001b[0m\u001b[0;34m\u001b[0m\u001b[0;34m\u001b[0m\u001b[0m\n\u001b[0;32m-> 3923\u001b[0;31m                 \u001b[0mnew_axis\u001b[0m \u001b[0;34m=\u001b[0m \u001b[0maxis\u001b[0m\u001b[0;34m.\u001b[0m\u001b[0mdrop\u001b[0m\u001b[0;34m(\u001b[0m\u001b[0mlabels\u001b[0m\u001b[0;34m,\u001b[0m \u001b[0merrors\u001b[0m\u001b[0;34m=\u001b[0m\u001b[0merrors\u001b[0m\u001b[0;34m)\u001b[0m\u001b[0;34m\u001b[0m\u001b[0;34m\u001b[0m\u001b[0m\n\u001b[0m\u001b[1;32m   3924\u001b[0m             \u001b[0mresult\u001b[0m \u001b[0;34m=\u001b[0m \u001b[0mself\u001b[0m\u001b[0;34m.\u001b[0m\u001b[0mreindex\u001b[0m\u001b[0;34m(\u001b[0m\u001b[0;34m**\u001b[0m\u001b[0;34m{\u001b[0m\u001b[0maxis_name\u001b[0m\u001b[0;34m:\u001b[0m \u001b[0mnew_axis\u001b[0m\u001b[0;34m}\u001b[0m\u001b[0;34m)\u001b[0m\u001b[0;34m\u001b[0m\u001b[0;34m\u001b[0m\u001b[0m\n\u001b[1;32m   3925\u001b[0m \u001b[0;34m\u001b[0m\u001b[0m\n",
      "\u001b[0;32m~/anaconda3/envs/jugnu/lib/python3.6/site-packages/pandas/core/indexes/base.py\u001b[0m in \u001b[0;36mdrop\u001b[0;34m(self, labels, errors)\u001b[0m\n\u001b[1;32m   5285\u001b[0m         \u001b[0;32mif\u001b[0m \u001b[0mmask\u001b[0m\u001b[0;34m.\u001b[0m\u001b[0many\u001b[0m\u001b[0;34m(\u001b[0m\u001b[0;34m)\u001b[0m\u001b[0;34m:\u001b[0m\u001b[0;34m\u001b[0m\u001b[0;34m\u001b[0m\u001b[0m\n\u001b[1;32m   5286\u001b[0m             \u001b[0;32mif\u001b[0m \u001b[0merrors\u001b[0m \u001b[0;34m!=\u001b[0m \u001b[0;34m\"ignore\"\u001b[0m\u001b[0;34m:\u001b[0m\u001b[0;34m\u001b[0m\u001b[0;34m\u001b[0m\u001b[0m\n\u001b[0;32m-> 5287\u001b[0;31m                 \u001b[0;32mraise\u001b[0m \u001b[0mKeyError\u001b[0m\u001b[0;34m(\u001b[0m\u001b[0;34mf\"{labels[mask]} not found in axis\"\u001b[0m\u001b[0;34m)\u001b[0m\u001b[0;34m\u001b[0m\u001b[0;34m\u001b[0m\u001b[0m\n\u001b[0m\u001b[1;32m   5288\u001b[0m             \u001b[0mindexer\u001b[0m \u001b[0;34m=\u001b[0m \u001b[0mindexer\u001b[0m\u001b[0;34m[\u001b[0m\u001b[0;34m~\u001b[0m\u001b[0mmask\u001b[0m\u001b[0;34m]\u001b[0m\u001b[0;34m\u001b[0m\u001b[0;34m\u001b[0m\u001b[0m\n\u001b[1;32m   5289\u001b[0m         \u001b[0;32mreturn\u001b[0m \u001b[0mself\u001b[0m\u001b[0;34m.\u001b[0m\u001b[0mdelete\u001b[0m\u001b[0;34m(\u001b[0m\u001b[0mindexer\u001b[0m\u001b[0;34m)\u001b[0m\u001b[0;34m\u001b[0m\u001b[0;34m\u001b[0m\u001b[0m\n",
      "\u001b[0;31mKeyError\u001b[0m: \"['Unnamed: 0' 'area_sq' 'area_sqrt' 'geometry'] not found in axis\""
     ]
    }
   ],
   "source": []
  },
  {
   "cell_type": "code",
   "execution_count": 24,
   "id": "357dd374-a541-4356-946b-133a160c1c16",
   "metadata": {},
   "outputs": [],
   "source": [
    "fb_stats_combined = df = reduce(lambda df1,df2: pd.merge(df1,df2,on='vor_id'), fb_stats)"
   ]
  },
  {
   "cell_type": "code",
   "execution_count": null,
   "id": "a6b74493-06da-4e3b-aefe-a97677dec15d",
   "metadata": {},
   "outputs": [],
   "source": [
    "fb_stats_combined.to_csv('../data/summary-stats/lhr_pop_vor_fb_combined.csv',index=False)"
   ]
  },
  {
   "cell_type": "markdown",
   "id": "ad359dc7-358f-4aa6-91d3-46129ad11d89",
   "metadata": {
    "jp-MarkdownHeadingCollapsed": true,
    "tags": []
   },
   "source": [
    "## convert to shapefiles and plot on kepler"
   ]
  },
  {
   "cell_type": "code",
   "execution_count": 4,
   "id": "242911a3-d3e5-4cda-8c0e-1bca5314398c",
   "metadata": {},
   "outputs": [],
   "source": [
    "fb_stats_combined = pd.read_csv('../data/summary-stats/lhr_pop_vor_fb_combined.csv')"
   ]
  },
  {
   "cell_type": "code",
   "execution_count": 5,
   "id": "ab7b49dd-bf26-49db-aabd-d2f9b7d208b3",
   "metadata": {},
   "outputs": [],
   "source": [
    "lhr_grid_gpd = gpd.read_file('../data/vector/dev/LAHORE/lahore_voronoi_fishnet_1000m.shp')"
   ]
  },
  {
   "cell_type": "code",
   "execution_count": 6,
   "id": "985b5e7a-cb58-4e36-8e89-217d164feccc",
   "metadata": {},
   "outputs": [],
   "source": [
    "fb_stats_combined_gpd = pd.merge(fb_stats_combined,lhr_grid_gpd)"
   ]
  },
  {
   "cell_type": "code",
   "execution_count": 7,
   "id": "cf7f7324-267b-4025-8feb-1763fc962cc5",
   "metadata": {},
   "outputs": [],
   "source": [
    "fb_stats_combined_gpd['geometry'] = fb_stats_combined_gpd.geometry.apply(lambda poly: transform(flip, poly))"
   ]
  },
  {
   "cell_type": "code",
   "execution_count": 8,
   "id": "86f22eed-be95-490a-be2d-a340dadab993",
   "metadata": {},
   "outputs": [],
   "source": [
    "fb_stats_combined_gpd = gpd.GeoDataFrame(fb_stats_combined_gpd,geometry='geometry')"
   ]
  },
  {
   "cell_type": "code",
   "execution_count": 9,
   "id": "333296c3-75f5-4ce8-ab8c-64d0d29f819c",
   "metadata": {},
   "outputs": [
    {
     "name": "stdout",
     "output_type": "stream",
     "text": [
      "User Guide: https://docs.kepler.gl/docs/keplergl-jupyter\n"
     ]
    }
   ],
   "source": [
    "map_ = KeplerGl(height=500000)"
   ]
  },
  {
   "cell_type": "code",
   "execution_count": 10,
   "id": "501341ae-2791-4546-aa28-67fdc9d473bf",
   "metadata": {},
   "outputs": [],
   "source": [
    "map_.add_data(data=fb_stats_combined_gpd,name='fb_stats')"
   ]
  },
  {
   "cell_type": "code",
   "execution_count": 11,
   "id": "f059ac5b-b3ff-4948-99bc-393b08834c3c",
   "metadata": {},
   "outputs": [
    {
     "name": "stdout",
     "output_type": "stream",
     "text": [
      "Map saved to ../viz/lahore_fb_compare.html!\n"
     ]
    }
   ],
   "source": [
    "map_.save_to_html(file_name='../viz/lahore_fb_compare.html',config=kepler_configs.lahore_fb_data_compare,read_only=False)"
   ]
  },
  {
   "cell_type": "code",
   "execution_count": 18,
   "id": "0ffdbea3-0078-49e5-b127-576cbccea5b9",
   "metadata": {},
   "outputs": [],
   "source": [
    "fb_stats_combined_gpd['pct_pop_youth'] = fb_stats_combined_gpd.sum_pop_youth/fb_stats_combined_gpd.sum_pop_general\n",
    "fb_stats_combined_gpd['pct_pop_reproductive'] = fb_stats_combined_gpd.sum_pop_reproductive/fb_stats_combined_gpd.sum_pop_general\n",
    "fb_stats_combined_gpd['pct_pop_elderly'] = fb_stats_combined_gpd.sum_pop_elderly/fb_stats_combined_gpd.sum_pop_general\n",
    "fb_stats_combined_gpd['pct_pop_women'] = fb_stats_combined_gpd.sum_pop_women/fb_stats_combined_gpd.sum_pop_general"
   ]
  },
  {
   "cell_type": "code",
   "execution_count": 24,
   "id": "f6acc252-ecfa-4a0a-af1e-5e146c6354cc",
   "metadata": {},
   "outputs": [],
   "source": [
    "fb_stats_combined_gpd.to_pickle('../data/vector/dev/LAHORE/lahore_fb_stats_vor.pkl')"
   ]
  },
  {
   "cell_type": "markdown",
   "id": "b8d9a5c2-f279-47ea-bfb9-ddf9865a9e65",
   "metadata": {
    "jp-MarkdownHeadingCollapsed": true,
    "tags": []
   },
   "source": [
    "## test merging all rasterio images"
   ]
  },
  {
   "cell_type": "code",
   "execution_count": 3,
   "id": "fa960ebb-d81f-49a8-a8c5-dd691312a01b",
   "metadata": {},
   "outputs": [],
   "source": [
    "# import os\n",
    "# from rasterio import merge\n",
    "# from rasterio.plot import show"
   ]
  },
  {
   "cell_type": "code",
   "execution_count": 4,
   "id": "17e6cfe6-b67e-40ed-a7e0-ac5614dcf401",
   "metadata": {},
   "outputs": [],
   "source": [
    "# pop_list = os.listdir('../data/raster/fb_raw/population_ind_pak_general/population_ind_pak_general/')\n",
    "# pop_list = [pop for pop in pop_list if 'tif' in pop]\n",
    "# pop_list = ['../data/raster/fb_raw/population_ind_pak_general/population_ind_pak_general/'+pop for pop in pop_list]"
   ]
  },
  {
   "cell_type": "code",
   "execution_count": 5,
   "id": "0c1b0fa6-dadf-44d6-907c-3cf3b86fd0dc",
   "metadata": {},
   "outputs": [],
   "source": [
    "# src_files = []\n",
    "# for pop in pop_list:\n",
    "#     src = rasterio.open(pop)\n",
    "#     src_files.append(src)\n",
    "# src_files"
   ]
  },
  {
   "cell_type": "code",
   "execution_count": 2,
   "id": "23db7e01-04ab-458e-bf4a-5e37d2d60c9d",
   "metadata": {},
   "outputs": [],
   "source": [
    "# mosaic, out_trans = merge.merge([src_files[0],src_files[7]])"
   ]
  },
  {
   "cell_type": "markdown",
   "id": "a9566a11-ef51-4fd4-a0fe-f516fcb09253",
   "metadata": {
    "jp-MarkdownHeadingCollapsed": true,
    "tags": []
   },
   "source": [
    "# ISLAMABD"
   ]
  },
  {
   "cell_type": "code",
   "execution_count": 4,
   "id": "f27ea587-88dd-4e7a-bfa5-63e2448192c1",
   "metadata": {},
   "outputs": [],
   "source": [
    "islamabad_grid = gpd.read_file('../data/vector/dev/ISLAMABAD/islamabad_voronoi_fishnet.shp')\n",
    "district_shp_path  = '../data/vector/pak_administrative_shapefiles/District_Boundary.shp'\n",
    "districts_gpd = gpd.read_file(district_shp_path)"
   ]
  },
  {
   "cell_type": "code",
   "execution_count": 5,
   "id": "59ce6d10-d90b-4a67-9ccf-0826482dc90b",
   "metadata": {},
   "outputs": [],
   "source": [
    "## tiff selector\n",
    "district_name = 'ISLAMABAD' # add district name here\n",
    "select_df = pd.DataFrame(set(districts_gpd[districts_gpd.DISTRICT.isin([district_name])].geometry.values[0].exterior.coords))\n",
    "select_df = select_df.rename(columns={0:'lon',1:'lat'})\n",
    "lat_min,lat_max,lon_min,lon_max = select_df.lat.min(),select_df.lat.max(),select_df.lon.min(),select_df.lon.max()\n",
    "\n",
    "lat_lon = []\n",
    "if((lat_max-lat_min)<1):\n",
    "    lat_range = int((lat_max)/10)*10\n",
    "    lat_lon.append(lat_range)\n",
    "if((lon_max-lon_min)<1):\n",
    "    lon_range = int((lon_max)/10)*10\n",
    "    lat_lon.append(lon_range)"
   ]
  },
  {
   "cell_type": "code",
   "execution_count": 6,
   "id": "e65c1344-2246-4521-ad9f-13c898792dde",
   "metadata": {},
   "outputs": [],
   "source": [
    "\n",
    "tiff_path_general = {'url':'../data/raster/fb_raw/population_ind_pak_general/population_ind_pak_general/population_{lat}_lon_{lon}_general-v1.5.tif'.format(lat=lat_lon[0],lon=lat_lon[1]),\n",
    "                     'type':'general'}\n",
    "tiff_path_women = {'url':'../data/raster/fb_raw/population_ind_pak_women/population_{lat}_lon_{lon}_women-v1.5.tif'.format(lat=lat_lon[0],lon=lat_lon[1]),\n",
    "                   'type':'women'}\n",
    "tiff_path_youth = {'url':'../data/raster/fb_raw/population_ind_pak_youth_15_24/population_{lat}_lon_{lon}_youth_15_24-v1.5.tif'.format(lat=lat_lon[0],lon=lat_lon[1]),\n",
    "                   'type':'youth'}\n",
    "tiff_path_reproductive = {'url':'../data/raster/fb_raw/population_ind_pak_women_of_reproductive_age_15_49/population_{lat}_lon_{lon}_women_of_reproductive_age_15_49-v1.5.tif'.format(lat=lat_lon[0],lon=lat_lon[1]),\n",
    "                          'type':'reproductive'}\n",
    "tiff_path_elderly = {'url':'../data/raster/fb_raw/population_ind_pak_elderly_60_plus/population_{lat}_lon_{lon}_elderly_60_plus-v1.5.tif'.format(lat=lat_lon[0],lon=lat_lon[1]),\n",
    "                     'type':'elderly'}\n"
   ]
  },
  {
   "cell_type": "code",
   "execution_count": 7,
   "id": "836673e1-08f6-493c-bff5-ac6bae7a98a1",
   "metadata": {},
   "outputs": [],
   "source": [
    "tiff_list = [tiff_path_general,tiff_path_women,tiff_path_youth,tiff_path_reproductive,tiff_path_elderly]"
   ]
  },
  {
   "cell_type": "code",
   "execution_count": 8,
   "id": "fafb382c-7aa3-446c-a411-2a2a960ce347",
   "metadata": {},
   "outputs": [
    {
     "name": "stdout",
     "output_type": "stream",
     "text": [
      "../data/raster/fb_raw/population_ind_pak_elderly_60_plus/population_30_lon_70_elderly_60_plus-v1.5.tif\n",
      "read masked\n",
      "aggregates done\n",
      "User Guide: https://docs.kepler.gl/docs/keplergl-jupyter\n",
      "Map saved to ../viz/islamabad_pop_grid_elderly_fb.html!\n",
      "saved\n"
     ]
    }
   ],
   "source": [
    "for tiff in tiff_list[4:5]:\n",
    "    path = tiff['url']\n",
    "    print(path)\n",
    "    type_ = tiff['type']\n",
    "    out_tiff = '../data/dev/masked.tiff'\n",
    "\n",
    "    req_rasterio = rasterio.open(path)\n",
    "    coords = getFeatures(districts_gpd[districts_gpd.DISTRICT.isin([district_name])])\n",
    "    out_img, out_transform = rasterio.mask.mask(dataset=req_rasterio, shapes=coords, crop=True)\n",
    "    out_meta = req_rasterio.meta.copy()\n",
    "    epsg_code = int(req_rasterio.crs.data['init'][5:])\n",
    "    out_meta.update({\"driver\": \"GTiff\",\"height\": out_img.shape[1],\"width\": out_img.shape[2],\n",
    "                     \"transform\": out_transform,\"crs\": pycrs.parse.from_epsg_code(epsg_code).to_proj4()})\n",
    "\n",
    "    with rasterio.open(out_tiff, \"w\", **out_meta) as dest:\n",
    "        dest.write(out_img)\n",
    "        \n",
    "    print('read masked')\n",
    "        \n",
    "    pop_temp = rasterio.open(out_tiff)\n",
    "    pop = rioxarray.open_rasterio(pop_temp)\n",
    "    pop = pop.fillna(0)\n",
    "    grid_stats = []\n",
    "    \n",
    "    for ind,row in islamabad_grid.iterrows():\n",
    "        poly = row.geometry\n",
    "        poly = transform(flip, poly)\n",
    "        geom = mapping(loads(str(poly)))\n",
    "        grid_pop = pop.rio.clip([geom],'EPSG:4326',drop=True)\n",
    "        sum_pop = grid_pop.sum().values.item()\n",
    "        mean_pop = grid_pop.mean().values.item()\n",
    "        max_pop = grid_pop.max().values.item()\n",
    "        min_pop = grid_pop.min().values.item()\n",
    "        std_pop = grid_pop.std().values.item()\n",
    "\n",
    "\n",
    "        val_dict = {\n",
    "        'vor_id':row.vor_id,\n",
    "        'sum_pop_{TYPE}'.format(TYPE=type_):sum_pop,\n",
    "        'mean_pop_{TYPE}'.format(TYPE=type_):mean_pop,\n",
    "        'max_pop_{TYPE}'.format(TYPE=type_):max_pop,\n",
    "        'min_pop_{TYPE}'.format(TYPE=type_):min_pop,\n",
    "        'std_pop_{TYPE}'.format(TYPE=type_):std_pop\n",
    "        }\n",
    "        grid_stats.append(val_dict)\n",
    "        \n",
    "    print('aggregates done') \n",
    "    \n",
    "    grid_stats_fb = pd.DataFrame(grid_stats)\n",
    "    grid_stats_fb = pd.merge(islamabad_grid,grid_stats_fb)\n",
    "    grid_stats_fb['geometry'] = grid_stats_fb.geometry.apply(lambda x: transform(flip,x))\n",
    "    grid_stats_fb.to_csv('../data/summary-stats/isb_pop_vor_fb_{TYPE}.csv'.format(TYPE=type_),index=False)\n",
    "    grid_stats_fb_gpd = gpd.GeoDataFrame(grid_stats_fb,geometry='geometry')\n",
    "    map_ = KeplerGl(height=5000)\n",
    "    map_.add_data(data=grid_stats_fb_gpd,name='isb_pop')\n",
    "    #map_.save_to_html(file_name='temp.html',config=kepler_configs.lahore_pop_grid)\n",
    "    map_.save_to_html(file_name='../viz/islamabad_pop_grid_{TYPE}_fb.html'.format(TYPE=type_),config=kepler_configs.lahore_pop_grid,read_only=False)\n",
    "    \n",
    "    del req_rasterio\n",
    "    del coords\n",
    "    del out_img\n",
    "    del out_meta\n",
    "    del out_transform\n",
    "    del pop\n",
    "    del pop_temp\n",
    "    del grid_pop\n",
    "    del grid_stats\n",
    "    del grid_stats_fb\n",
    "    del grid_stats_fb_gpd\n",
    "    \n",
    "    print('saved')"
   ]
  },
  {
   "cell_type": "code",
   "execution_count": 9,
   "id": "c1206711-6dcf-4efd-b0eb-5d6f05132680",
   "metadata": {},
   "outputs": [],
   "source": [
    "# combine data in one file\n",
    "\n",
    "import os\n",
    "from functools import reduce\n",
    "\n",
    "fb_stats = os.listdir('../data/summary-stats/')\n",
    "fb_stats = [fb for fb in fb_stats if 'isb_pop_vor_fb' in fb]\n",
    "fb_stats = [fb for fb in fb_stats if 'combined' not in fb]\n",
    "fb_stats = ['../data/summary-stats/'+fb for fb in fb_stats]\n",
    "fb_stats = [pd.read_csv(fb) for fb in fb_stats]\n",
    "fb_stats = [fb.drop(columns=['area_sq','area_sqrt','geometry']) for fb in fb_stats]\n",
    "\n",
    "fb_stats_combined = df = reduce(lambda df1,df2: pd.merge(df1,df2,on='vor_id'), fb_stats)\n",
    "fb_stats_combined = fb_stats_combined.fillna(0)\n",
    "#fb_stats_combined.to_csv('../data/summary-stats/isb_pop_vor_fb_combined.csv',index=False)"
   ]
  },
  {
   "cell_type": "code",
   "execution_count": 12,
   "id": "d451a6e0-f320-4992-94a5-d4b1ce412dd7",
   "metadata": {},
   "outputs": [],
   "source": [
    "fb_stats_combined.to_csv('../data/summary-stats/isb_pop_vor_fb_combined.csv',index=False)"
   ]
  },
  {
   "cell_type": "code",
   "execution_count": 14,
   "id": "3af0b441-6c8a-4532-a56d-1953fe147824",
   "metadata": {},
   "outputs": [
    {
     "data": {
      "text/plain": [
       "<AxesSubplot:ylabel='Frequency'>"
      ]
     },
     "execution_count": 14,
     "metadata": {},
     "output_type": "execute_result"
    },
    {
     "data": {
      "image/png": "[encoded data removed]",
      "text/plain": [
       "<Figure size 432x288 with 1 Axes>"
      ]
     },
     "metadata": {
      "needs_background": "light"
     },
     "output_type": "display_data"
    }
   ],
   "source": [
    "fb_stats_combined.sum_pop_general.plot(kind='hist')"
   ]
  },
  {
   "cell_type": "code",
   "execution_count": 30,
   "id": "d6e0e1f0-a2c5-4eba-866d-2b9a88ed3b35",
   "metadata": {},
   "outputs": [],
   "source": [
    "fb_stats_combined_gpd = fb_stats_combined.merge(islamabad_grid)\n",
    "fb_stats_combined_gpd = gpd.GeoDataFrame(fb_stats_combined_gpd,geometry='geometry')\n",
    "fb_stats_combined_gpd['geometry'] = fb_stats_combined_gpd.geometry.apply(lambda x: transform(func=flip,geom=x))\n",
    "map_ = KeplerGl(height=500)\n",
    "map_.add_data(data=fb_stats_combined_gpd,name='fb_pop_data')"
   ]
  },
  {
   "cell_type": "code",
   "execution_count": 33,
   "id": "8cf90555-097c-438d-848b-ff3838da7f30",
   "metadata": {},
   "outputs": [],
   "source": [
    "map_.save_to_html(file_name='../viz/islamabad_pop_grid_combined.html',config=kepler_configs.islamabad_grid_population_fb)"
   ]
  },
  {
   "cell_type": "markdown",
   "id": "b36c2edd-daa8-4c78-8779-a20a007df276",
   "metadata": {
    "tags": []
   },
   "source": [
    "# KARACHI"
   ]
  },
  {
   "cell_type": "code",
   "execution_count": 4,
   "id": "9e0a8f40-3245-4e23-a095-4fcc0b70637f",
   "metadata": {},
   "outputs": [],
   "source": [
    "karachi_grid = gpd.read_file('../data/vector/dev/KARACHI/karachi_voronoi_fishnet.shp')\n",
    "district_shp_path  = '../data/vector/pak_administrative_shapefiles/District_Boundary.shp'\n",
    "districts_gpd = gpd.read_file(district_shp_path)\n"
   ]
  },
  {
   "cell_type": "code",
   "execution_count": 5,
   "id": "392713aa-dceb-4810-9979-712a0bd08232",
   "metadata": {},
   "outputs": [],
   "source": [
    "#districts_gpd = gpd.read_file(district_shp_path)\n",
    "karachi_districts = districts_gpd[districts_gpd.DISTRICT.isin(['KARACHI CENTRAL', 'KARACHI WEST',\n",
    "       'MALIR CANTONMENT', 'KORANGI CREEK CANTONMENT',\n",
    "       'MANORA CANTONMENT', 'CLIFTON CANTONMENT', 'KARACHI CANTONMENT',\n",
    "       'FAISAL CANTONMENT', 'KARACHI SOUTH', 'MALIR', 'KORANGI',\n",
    "       'KARACHI EAST'])]\n",
    "karachi_whole_poly = cascaded_union(karachi_districts.geometry)\n",
    "karachi_whole_df = pd.DataFrame(np.array([[130,'SINDH','KARACHI FULL',0,'CUSTOM',karachi_districts.Shape_Le_1.sum(),\n",
    "                                          karachi_districts.Shape_Le_2.sum(),karachi_districts.Shape_Area.sum(),\n",
    "                                          karachi_whole_poly]]),columns=karachi_districts.columns)\n",
    "karachi_whole_gpd = gpd.GeoDataFrame(karachi_whole_df,geometry='geometry')\n",
    "karachi_whole_gpd.crs = districts_gpd.crs\n",
    "\n",
    "districts_gpd = districts_gpd.append(karachi_whole_df)"
   ]
  },
  {
   "cell_type": "code",
   "execution_count": 6,
   "id": "0ae09bdb-64f8-4f4e-999e-725616339044",
   "metadata": {},
   "outputs": [],
   "source": [
    "## tiff selector\n",
    "district_name = 'KARACHI FULL' # add district name here\n",
    "select_df = pd.DataFrame(set(districts_gpd[districts_gpd.DISTRICT.isin([district_name])].geometry.values[0].exterior.coords))\n",
    "select_df = select_df.rename(columns={0:'lon',1:'lat'})\n",
    "lat_min,lat_max,lon_min,lon_max = select_df.lat.min(),select_df.lat.max(),select_df.lon.min(),select_df.lon.max()\n",
    "\n",
    "lat_lon = []\n",
    "if((lat_max-lat_min)<1):\n",
    "    lat_range = int((lat_max)/10)*10\n",
    "    lat_lon.append(lat_range)\n",
    "if((lon_max-lon_min)<1):\n",
    "    lon_range = int((lon_max)/10)*10\n",
    "    lat_lon.append(lon_range)"
   ]
  },
  {
   "cell_type": "code",
   "execution_count": 7,
   "id": "61c810e5-6016-4656-84ac-a1c62c136ff6",
   "metadata": {},
   "outputs": [],
   "source": [
    "\n",
    "tiff_path_general = {'url':'../data/raster/fb_raw/population_ind_pak_general/population_ind_pak_general/population_{lat}_lon_{lon}_general-v1.5.tif'.format(lat=lat_lon[0],lon=lat_lon[1]),\n",
    "                     'type':'general'}\n",
    "tiff_path_women = {'url':'../data/raster/fb_raw/population_ind_pak_women/population_{lat}_lon_{lon}_women-v1.5.tif'.format(lat=lat_lon[0],lon=lat_lon[1]),\n",
    "                   'type':'women'}\n",
    "tiff_path_youth = {'url':'../data/raster/fb_raw/population_ind_pak_youth_15_24/population_{lat}_lon_{lon}_youth_15_24-v1.5.tif'.format(lat=lat_lon[0],lon=lat_lon[1]),\n",
    "                   'type':'youth'}\n",
    "tiff_path_reproductive = {'url':'../data/raster/fb_raw/population_ind_pak_women_of_reproductive_age_15_49/population_{lat}_lon_{lon}_women_of_reproductive_age_15_49-v1.5.tif'.format(lat=lat_lon[0],lon=lat_lon[1]),\n",
    "                          'type':'reproductive'}\n",
    "tiff_path_elderly = {'url':'../data/raster/fb_raw/population_ind_pak_elderly_60_plus/population_{lat}_lon_{lon}_elderly_60_plus-v1.5.tif'.format(lat=lat_lon[0],lon=lat_lon[1]),\n",
    "                     'type':'elderly'}\n",
    "\n",
    "tiff_list = [tiff_path_general,tiff_path_women,tiff_path_youth,tiff_path_reproductive,tiff_path_elderly]"
   ]
  },
  {
   "cell_type": "code",
   "execution_count": 8,
   "id": "6e4baebf-e770-415f-9a08-b50fa90599a1",
   "metadata": {},
   "outputs": [
    {
     "name": "stdout",
     "output_type": "stream",
     "text": [
      "../data/raster/fb_raw/population_ind_pak_elderly_60_plus/population_20_lon_60_elderly_60_plus-v1.5.tif\n",
      "read masked\n",
      "aggregates done\n",
      "User Guide: https://docs.kepler.gl/docs/keplergl-jupyter\n",
      "saved\n"
     ]
    }
   ],
   "source": [
    "for tiff in tiff_list[4:5]:\n",
    "    path = tiff['url']\n",
    "    print(path)\n",
    "    type_ = tiff['type']\n",
    "    out_tiff = '../data/dev/masked.tiff'\n",
    "\n",
    "    req_rasterio = rasterio.open(path)\n",
    "    coords = getFeatures(districts_gpd[districts_gpd.DISTRICT.isin([district_name])])\n",
    "    out_img, out_transform = rasterio.mask.mask(dataset=req_rasterio, shapes=coords, crop=True)\n",
    "    out_meta = req_rasterio.meta.copy()\n",
    "    epsg_code = int(req_rasterio.crs.data['init'][5:])\n",
    "    out_meta.update({\"driver\": \"GTiff\",\"height\": out_img.shape[1],\"width\": out_img.shape[2],\n",
    "                     \"transform\": out_transform,\"crs\": pycrs.parse.from_epsg_code(epsg_code).to_proj4()})\n",
    "\n",
    "    with rasterio.open(out_tiff, \"w\", **out_meta) as dest:\n",
    "        dest.write(out_img)\n",
    "        \n",
    "    print('read masked')\n",
    "        \n",
    "    pop_temp = rasterio.open(out_tiff)\n",
    "    pop = rioxarray.open_rasterio(pop_temp)\n",
    "    pop = pop.fillna(0)\n",
    "    grid_stats = []\n",
    "    \n",
    "    for ind,row in karachi_grid.iterrows():\n",
    "        poly = row.geometry\n",
    "        poly = transform(flip, poly)\n",
    "        geom = mapping(loads(str(poly)))\n",
    "        grid_pop = pop.rio.clip([geom],'EPSG:4326',drop=True)\n",
    "        sum_pop = grid_pop.sum().values.item()\n",
    "        mean_pop = grid_pop.mean().values.item()\n",
    "        max_pop = grid_pop.max().values.item()\n",
    "        min_pop = grid_pop.min().values.item()\n",
    "        std_pop = grid_pop.std().values.item()\n",
    "\n",
    "\n",
    "        val_dict = {\n",
    "        'vor_id':row.vor_id,\n",
    "        'sum_pop_{TYPE}'.format(TYPE=type_):sum_pop,\n",
    "        'mean_pop_{TYPE}'.format(TYPE=type_):mean_pop,\n",
    "        'max_pop_{TYPE}'.format(TYPE=type_):max_pop,\n",
    "        'min_pop_{TYPE}'.format(TYPE=type_):min_pop,\n",
    "        'std_pop_{TYPE}'.format(TYPE=type_):std_pop\n",
    "        }\n",
    "        grid_stats.append(val_dict)\n",
    "        \n",
    "    print('aggregates done') \n",
    "    \n",
    "    grid_stats_fb = pd.DataFrame(grid_stats)\n",
    "    grid_stats_fb = pd.merge(karachi_grid,grid_stats_fb)\n",
    "    grid_stats_fb['geometry'] = grid_stats_fb.geometry.apply(lambda x: transform(flip,x))\n",
    "    grid_stats_fb.to_csv('../data/summary-stats/khi_pop_vor_fb_{TYPE}.csv'.format(TYPE=type_),index=False)\n",
    "    grid_stats_fb_gpd = gpd.GeoDataFrame(grid_stats_fb,geometry='geometry')\n",
    "    map_ = KeplerGl(height=5000)\n",
    "    map_.add_data(data=grid_stats_fb_gpd,name='khi_pop')\n",
    "    #map_.save_to_html(file_name='temp.html',config=kepler_configs.lahore_pop_grid)\n",
    "#     map_.save_to_html(file_name='../viz/karachi_pop_grid_{TYPE}_fb.html'.format(TYPE=type_),config=kepler_configs.lahore_pop_grid,read_only=False)\n",
    "    \n",
    "    del req_rasterio\n",
    "    del coords\n",
    "    del out_img\n",
    "    del out_meta\n",
    "    del out_transform\n",
    "    del pop\n",
    "    del pop_temp\n",
    "    del grid_pop\n",
    "    del grid_stats\n",
    "    del grid_stats_fb\n",
    "    del grid_stats_fb_gpd\n",
    "    \n",
    "    print('saved')"
   ]
  },
  {
   "cell_type": "code",
   "execution_count": 14,
   "id": "b6a5a405-0e7b-49f2-ace2-b5bfed2fa04c",
   "metadata": {},
   "outputs": [],
   "source": [
    "# combine data in one file\n",
    "\n",
    "import os\n",
    "from functools import reduce\n",
    "\n",
    "fb_stats = os.listdir('../data/summary-stats/')\n",
    "fb_stats = [fb for fb in fb_stats if 'khi_pop' in fb]\n",
    "fb_stats = [fb for fb in fb_stats if 'combined' not in fb]\n",
    "fb_stats = ['../data/summary-stats/'+fb for fb in fb_stats]\n",
    "fb_stats = [pd.read_csv(fb) for fb in fb_stats]\n",
    "#fb_stats[5] = fb_stats[5].drop(columns=['Unnamed: 0'])\n",
    "fb_stats = [fb.drop(columns=['area_sq','area_sqrt','geometry']) for fb in fb_stats]\n",
    "\n",
    "fb_stats_combined = df = reduce(lambda df1,df2: pd.merge(df1,df2,on='vor_id'), fb_stats)\n",
    "fb_stats_combined = fb_stats_combined.fillna(0)\n",
    "fb_stats_combined.to_csv('../data/summary-stats/khi_pop_vor_fb_combined.csv',index=False)"
   ]
  },
  {
   "cell_type": "code",
   "execution_count": 13,
   "id": "6b1dd59e-2744-42fc-8062-3016f51067f6",
   "metadata": {},
   "outputs": [
    {
     "data": {
      "text/html": [
       "<div>\n",
       "<style scoped>\n",
       "    .dataframe tbody tr th:only-of-type {\n",
       "        vertical-align: middle;\n",
       "    }\n",
       "\n",
       "    .dataframe tbody tr th {\n",
       "        vertical-align: top;\n",
       "    }\n",
       "\n",
       "    .dataframe thead th {\n",
       "        text-align: right;\n",
       "    }\n",
       "</style>\n",
       "<table border=\"1\" class=\"dataframe\">\n",
       "  <thead>\n",
       "    <tr style=\"text-align: right;\">\n",
       "      <th></th>\n",
       "      <th>vor_id</th>\n",
       "      <th>sum_pop_general</th>\n",
       "      <th>mean_pop_general</th>\n",
       "      <th>max_pop_general</th>\n",
       "      <th>min_pop_general</th>\n",
       "      <th>std_pop_general</th>\n",
       "      <th>sum_pop_elderly</th>\n",
       "      <th>mean_pop_elderly</th>\n",
       "      <th>max_pop_elderly</th>\n",
       "      <th>min_pop_elderly</th>\n",
       "      <th>std_pop_elderly</th>\n",
       "      <th>sum_pop_women</th>\n",
       "      <th>mean_pop_women</th>\n",
       "      <th>max_pop_women</th>\n",
       "      <th>min_pop_women</th>\n",
       "      <th>std_pop_women</th>\n",
       "      <th>sum_pop_youth</th>\n",
       "      <th>mean_pop_youth</th>\n",
       "      <th>max_pop_youth</th>\n",
       "      <th>min_pop_youth</th>\n",
       "      <th>std_pop_youth</th>\n",
       "      <th>sum_pop_reproductive</th>\n",
       "      <th>mean_pop_reproductive</th>\n",
       "      <th>max_pop_reproductive</th>\n",
       "      <th>min_pop_reproductive</th>\n",
       "      <th>std_pop_reproductive</th>\n",
       "    </tr>\n",
       "  </thead>\n",
       "  <tbody>\n",
       "    <tr>\n",
       "      <th>0</th>\n",
       "      <td>vor0</td>\n",
       "      <td>121.646556</td>\n",
       "      <td>0.043461</td>\n",
       "      <td>30.411639</td>\n",
       "      <td>0.0</td>\n",
       "      <td>1.148835</td>\n",
       "      <td>5.718760</td>\n",
       "      <td>0.002043</td>\n",
       "      <td>1.429690</td>\n",
       "      <td>0.0</td>\n",
       "      <td>0.054008</td>\n",
       "      <td>56.278692</td>\n",
       "      <td>0.020107</td>\n",
       "      <td>14.069673</td>\n",
       "      <td>0.0</td>\n",
       "      <td>0.531498</td>\n",
       "      <td>29.220796</td>\n",
       "      <td>0.010440</td>\n",
       "      <td>7.305199</td>\n",
       "      <td>0.0</td>\n",
       "      <td>0.275962</td>\n",
       "      <td>29.309412</td>\n",
       "      <td>0.010471</td>\n",
       "      <td>7.327353</td>\n",
       "      <td>0.0</td>\n",
       "      <td>0.276799</td>\n",
       "    </tr>\n",
       "    <tr>\n",
       "      <th>1</th>\n",
       "      <td>vor1</td>\n",
       "      <td>3771.043236</td>\n",
       "      <td>0.821041</td>\n",
       "      <td>60.823278</td>\n",
       "      <td>0.0</td>\n",
       "      <td>5.245659</td>\n",
       "      <td>177.281560</td>\n",
       "      <td>0.038598</td>\n",
       "      <td>2.859380</td>\n",
       "      <td>0.0</td>\n",
       "      <td>0.246605</td>\n",
       "      <td>1744.639452</td>\n",
       "      <td>0.379847</td>\n",
       "      <td>28.139346</td>\n",
       "      <td>0.0</td>\n",
       "      <td>2.426857</td>\n",
       "      <td>905.844676</td>\n",
       "      <td>0.197223</td>\n",
       "      <td>14.610398</td>\n",
       "      <td>0.0</td>\n",
       "      <td>1.260063</td>\n",
       "      <td>908.591772</td>\n",
       "      <td>0.197821</td>\n",
       "      <td>14.654706</td>\n",
       "      <td>0.0</td>\n",
       "      <td>1.263884</td>\n",
       "    </tr>\n",
       "    <tr>\n",
       "      <th>2</th>\n",
       "      <td>vor2</td>\n",
       "      <td>1338.112116</td>\n",
       "      <td>0.369542</td>\n",
       "      <td>60.823278</td>\n",
       "      <td>0.0</td>\n",
       "      <td>3.554480</td>\n",
       "      <td>62.906360</td>\n",
       "      <td>0.017373</td>\n",
       "      <td>2.859380</td>\n",
       "      <td>0.0</td>\n",
       "      <td>0.167101</td>\n",
       "      <td>619.065612</td>\n",
       "      <td>0.170965</td>\n",
       "      <td>28.139346</td>\n",
       "      <td>0.0</td>\n",
       "      <td>1.644448</td>\n",
       "      <td>321.428756</td>\n",
       "      <td>0.088768</td>\n",
       "      <td>14.610398</td>\n",
       "      <td>0.0</td>\n",
       "      <td>0.853824</td>\n",
       "      <td>322.403532</td>\n",
       "      <td>0.089037</td>\n",
       "      <td>14.654706</td>\n",
       "      <td>0.0</td>\n",
       "      <td>0.856413</td>\n",
       "    </tr>\n",
       "    <tr>\n",
       "      <th>3</th>\n",
       "      <td>vor3</td>\n",
       "      <td>152.058195</td>\n",
       "      <td>0.032568</td>\n",
       "      <td>30.411639</td>\n",
       "      <td>0.0</td>\n",
       "      <td>0.994673</td>\n",
       "      <td>7.148450</td>\n",
       "      <td>0.001531</td>\n",
       "      <td>1.429690</td>\n",
       "      <td>0.0</td>\n",
       "      <td>0.046761</td>\n",
       "      <td>70.348365</td>\n",
       "      <td>0.015067</td>\n",
       "      <td>14.069673</td>\n",
       "      <td>0.0</td>\n",
       "      <td>0.460176</td>\n",
       "      <td>36.525995</td>\n",
       "      <td>0.007823</td>\n",
       "      <td>7.305199</td>\n",
       "      <td>0.0</td>\n",
       "      <td>0.238931</td>\n",
       "      <td>36.636765</td>\n",
       "      <td>0.007847</td>\n",
       "      <td>7.327353</td>\n",
       "      <td>0.0</td>\n",
       "      <td>0.239656</td>\n",
       "    </tr>\n",
       "    <tr>\n",
       "      <th>4</th>\n",
       "      <td>vor4</td>\n",
       "      <td>2189.638008</td>\n",
       "      <td>0.570962</td>\n",
       "      <td>60.823278</td>\n",
       "      <td>0.0</td>\n",
       "      <td>4.410162</td>\n",
       "      <td>102.937680</td>\n",
       "      <td>0.026842</td>\n",
       "      <td>2.859380</td>\n",
       "      <td>0.0</td>\n",
       "      <td>0.207327</td>\n",
       "      <td>1013.016456</td>\n",
       "      <td>0.264150</td>\n",
       "      <td>28.139346</td>\n",
       "      <td>0.0</td>\n",
       "      <td>2.040322</td>\n",
       "      <td>525.974328</td>\n",
       "      <td>0.137151</td>\n",
       "      <td>14.610398</td>\n",
       "      <td>0.0</td>\n",
       "      <td>1.059368</td>\n",
       "      <td>527.569416</td>\n",
       "      <td>0.137567</td>\n",
       "      <td>14.654706</td>\n",
       "      <td>0.0</td>\n",
       "      <td>1.062581</td>\n",
       "    </tr>\n",
       "    <tr>\n",
       "      <th>...</th>\n",
       "      <td>...</td>\n",
       "      <td>...</td>\n",
       "      <td>...</td>\n",
       "      <td>...</td>\n",
       "      <td>...</td>\n",
       "      <td>...</td>\n",
       "      <td>...</td>\n",
       "      <td>...</td>\n",
       "      <td>...</td>\n",
       "      <td>...</td>\n",
       "      <td>...</td>\n",
       "      <td>...</td>\n",
       "      <td>...</td>\n",
       "      <td>...</td>\n",
       "      <td>...</td>\n",
       "      <td>...</td>\n",
       "      <td>...</td>\n",
       "      <td>...</td>\n",
       "      <td>...</td>\n",
       "      <td>...</td>\n",
       "      <td>...</td>\n",
       "      <td>...</td>\n",
       "      <td>...</td>\n",
       "      <td>...</td>\n",
       "      <td>...</td>\n",
       "      <td>...</td>\n",
       "    </tr>\n",
       "    <tr>\n",
       "      <th>1118</th>\n",
       "      <td>vor1118</td>\n",
       "      <td>80.059968</td>\n",
       "      <td>0.017059</td>\n",
       "      <td>20.014992</td>\n",
       "      <td>0.0</td>\n",
       "      <td>0.461640</td>\n",
       "      <td>3.580928</td>\n",
       "      <td>0.000763</td>\n",
       "      <td>0.895232</td>\n",
       "      <td>0.0</td>\n",
       "      <td>0.020648</td>\n",
       "      <td>35.898720</td>\n",
       "      <td>0.007649</td>\n",
       "      <td>8.974680</td>\n",
       "      <td>0.0</td>\n",
       "      <td>0.206999</td>\n",
       "      <td>18.545048</td>\n",
       "      <td>0.003952</td>\n",
       "      <td>4.636262</td>\n",
       "      <td>0.0</td>\n",
       "      <td>0.106934</td>\n",
       "      <td>18.519424</td>\n",
       "      <td>0.003946</td>\n",
       "      <td>4.629856</td>\n",
       "      <td>0.0</td>\n",
       "      <td>0.106786</td>\n",
       "    </tr>\n",
       "    <tr>\n",
       "      <th>1119</th>\n",
       "      <td>vor1119</td>\n",
       "      <td>0.000000</td>\n",
       "      <td>0.000000</td>\n",
       "      <td>0.000000</td>\n",
       "      <td>0.0</td>\n",
       "      <td>0.000000</td>\n",
       "      <td>0.000000</td>\n",
       "      <td>0.000000</td>\n",
       "      <td>0.000000</td>\n",
       "      <td>0.0</td>\n",
       "      <td>0.000000</td>\n",
       "      <td>0.000000</td>\n",
       "      <td>0.000000</td>\n",
       "      <td>0.000000</td>\n",
       "      <td>0.0</td>\n",
       "      <td>0.000000</td>\n",
       "      <td>0.000000</td>\n",
       "      <td>0.000000</td>\n",
       "      <td>0.000000</td>\n",
       "      <td>0.0</td>\n",
       "      <td>0.000000</td>\n",
       "      <td>0.000000</td>\n",
       "      <td>0.000000</td>\n",
       "      <td>0.000000</td>\n",
       "      <td>0.0</td>\n",
       "      <td>0.000000</td>\n",
       "    </tr>\n",
       "    <tr>\n",
       "      <th>1120</th>\n",
       "      <td>vor1120</td>\n",
       "      <td>170.127432</td>\n",
       "      <td>0.055254</td>\n",
       "      <td>20.014992</td>\n",
       "      <td>0.0</td>\n",
       "      <td>0.824627</td>\n",
       "      <td>7.609472</td>\n",
       "      <td>0.002471</td>\n",
       "      <td>0.895232</td>\n",
       "      <td>0.0</td>\n",
       "      <td>0.036884</td>\n",
       "      <td>76.284780</td>\n",
       "      <td>0.024776</td>\n",
       "      <td>8.974680</td>\n",
       "      <td>0.0</td>\n",
       "      <td>0.369761</td>\n",
       "      <td>39.408227</td>\n",
       "      <td>0.012799</td>\n",
       "      <td>4.636262</td>\n",
       "      <td>0.0</td>\n",
       "      <td>0.191016</td>\n",
       "      <td>39.353776</td>\n",
       "      <td>0.012781</td>\n",
       "      <td>4.629856</td>\n",
       "      <td>0.0</td>\n",
       "      <td>0.190752</td>\n",
       "    </tr>\n",
       "    <tr>\n",
       "      <th>1121</th>\n",
       "      <td>vor1121</td>\n",
       "      <td>0.000000</td>\n",
       "      <td>0.000000</td>\n",
       "      <td>0.000000</td>\n",
       "      <td>0.0</td>\n",
       "      <td>0.000000</td>\n",
       "      <td>0.000000</td>\n",
       "      <td>0.000000</td>\n",
       "      <td>0.000000</td>\n",
       "      <td>0.0</td>\n",
       "      <td>0.000000</td>\n",
       "      <td>0.000000</td>\n",
       "      <td>0.000000</td>\n",
       "      <td>0.000000</td>\n",
       "      <td>0.0</td>\n",
       "      <td>0.000000</td>\n",
       "      <td>0.000000</td>\n",
       "      <td>0.000000</td>\n",
       "      <td>0.000000</td>\n",
       "      <td>0.0</td>\n",
       "      <td>0.000000</td>\n",
       "      <td>0.000000</td>\n",
       "      <td>0.000000</td>\n",
       "      <td>0.000000</td>\n",
       "      <td>0.0</td>\n",
       "      <td>0.000000</td>\n",
       "    </tr>\n",
       "    <tr>\n",
       "      <th>1122</th>\n",
       "      <td>vor1122</td>\n",
       "      <td>0.000000</td>\n",
       "      <td>0.000000</td>\n",
       "      <td>0.000000</td>\n",
       "      <td>0.0</td>\n",
       "      <td>0.000000</td>\n",
       "      <td>0.000000</td>\n",
       "      <td>0.000000</td>\n",
       "      <td>0.000000</td>\n",
       "      <td>0.0</td>\n",
       "      <td>0.000000</td>\n",
       "      <td>0.000000</td>\n",
       "      <td>0.000000</td>\n",
       "      <td>0.000000</td>\n",
       "      <td>0.0</td>\n",
       "      <td>0.000000</td>\n",
       "      <td>0.000000</td>\n",
       "      <td>0.000000</td>\n",
       "      <td>0.000000</td>\n",
       "      <td>0.0</td>\n",
       "      <td>0.000000</td>\n",
       "      <td>0.000000</td>\n",
       "      <td>0.000000</td>\n",
       "      <td>0.000000</td>\n",
       "      <td>0.0</td>\n",
       "      <td>0.000000</td>\n",
       "    </tr>\n",
       "  </tbody>\n",
       "</table>\n",
       "<p>1123 rows × 26 columns</p>\n",
       "</div>"
      ],
      "text/plain": [
       "       vor_id  sum_pop_general  mean_pop_general  max_pop_general  \\\n",
       "0        vor0       121.646556          0.043461        30.411639   \n",
       "1        vor1      3771.043236          0.821041        60.823278   \n",
       "2        vor2      1338.112116          0.369542        60.823278   \n",
       "3        vor3       152.058195          0.032568        30.411639   \n",
       "4        vor4      2189.638008          0.570962        60.823278   \n",
       "...       ...              ...               ...              ...   \n",
       "1118  vor1118        80.059968          0.017059        20.014992   \n",
       "1119  vor1119         0.000000          0.000000         0.000000   \n",
       "1120  vor1120       170.127432          0.055254        20.014992   \n",
       "1121  vor1121         0.000000          0.000000         0.000000   \n",
       "1122  vor1122         0.000000          0.000000         0.000000   \n",
       "\n",
       "      min_pop_general  std_pop_general  sum_pop_elderly  mean_pop_elderly  \\\n",
       "0                 0.0         1.148835         5.718760          0.002043   \n",
       "1                 0.0         5.245659       177.281560          0.038598   \n",
       "2                 0.0         3.554480        62.906360          0.017373   \n",
       "3                 0.0         0.994673         7.148450          0.001531   \n",
       "4                 0.0         4.410162       102.937680          0.026842   \n",
       "...               ...              ...              ...               ...   \n",
       "1118              0.0         0.461640         3.580928          0.000763   \n",
       "1119              0.0         0.000000         0.000000          0.000000   \n",
       "1120              0.0         0.824627         7.609472          0.002471   \n",
       "1121              0.0         0.000000         0.000000          0.000000   \n",
       "1122              0.0         0.000000         0.000000          0.000000   \n",
       "\n",
       "      max_pop_elderly  min_pop_elderly  std_pop_elderly  sum_pop_women  \\\n",
       "0            1.429690              0.0         0.054008      56.278692   \n",
       "1            2.859380              0.0         0.246605    1744.639452   \n",
       "2            2.859380              0.0         0.167101     619.065612   \n",
       "3            1.429690              0.0         0.046761      70.348365   \n",
       "4            2.859380              0.0         0.207327    1013.016456   \n",
       "...               ...              ...              ...            ...   \n",
       "1118         0.895232              0.0         0.020648      35.898720   \n",
       "1119         0.000000              0.0         0.000000       0.000000   \n",
       "1120         0.895232              0.0         0.036884      76.284780   \n",
       "1121         0.000000              0.0         0.000000       0.000000   \n",
       "1122         0.000000              0.0         0.000000       0.000000   \n",
       "\n",
       "      mean_pop_women  max_pop_women  min_pop_women  std_pop_women  \\\n",
       "0           0.020107      14.069673            0.0       0.531498   \n",
       "1           0.379847      28.139346            0.0       2.426857   \n",
       "2           0.170965      28.139346            0.0       1.644448   \n",
       "3           0.015067      14.069673            0.0       0.460176   \n",
       "4           0.264150      28.139346            0.0       2.040322   \n",
       "...              ...            ...            ...            ...   \n",
       "1118        0.007649       8.974680            0.0       0.206999   \n",
       "1119        0.000000       0.000000            0.0       0.000000   \n",
       "1120        0.024776       8.974680            0.0       0.369761   \n",
       "1121        0.000000       0.000000            0.0       0.000000   \n",
       "1122        0.000000       0.000000            0.0       0.000000   \n",
       "\n",
       "      sum_pop_youth  mean_pop_youth  max_pop_youth  min_pop_youth  \\\n",
       "0         29.220796        0.010440       7.305199            0.0   \n",
       "1        905.844676        0.197223      14.610398            0.0   \n",
       "2        321.428756        0.088768      14.610398            0.0   \n",
       "3         36.525995        0.007823       7.305199            0.0   \n",
       "4        525.974328        0.137151      14.610398            0.0   \n",
       "...             ...             ...            ...            ...   \n",
       "1118      18.545048        0.003952       4.636262            0.0   \n",
       "1119       0.000000        0.000000       0.000000            0.0   \n",
       "1120      39.408227        0.012799       4.636262            0.0   \n",
       "1121       0.000000        0.000000       0.000000            0.0   \n",
       "1122       0.000000        0.000000       0.000000            0.0   \n",
       "\n",
       "      std_pop_youth  sum_pop_reproductive  mean_pop_reproductive  \\\n",
       "0          0.275962             29.309412               0.010471   \n",
       "1          1.260063            908.591772               0.197821   \n",
       "2          0.853824            322.403532               0.089037   \n",
       "3          0.238931             36.636765               0.007847   \n",
       "4          1.059368            527.569416               0.137567   \n",
       "...             ...                   ...                    ...   \n",
       "1118       0.106934             18.519424               0.003946   \n",
       "1119       0.000000              0.000000               0.000000   \n",
       "1120       0.191016             39.353776               0.012781   \n",
       "1121       0.000000              0.000000               0.000000   \n",
       "1122       0.000000              0.000000               0.000000   \n",
       "\n",
       "      max_pop_reproductive  min_pop_reproductive  std_pop_reproductive  \n",
       "0                 7.327353                   0.0              0.276799  \n",
       "1                14.654706                   0.0              1.263884  \n",
       "2                14.654706                   0.0              0.856413  \n",
       "3                 7.327353                   0.0              0.239656  \n",
       "4                14.654706                   0.0              1.062581  \n",
       "...                    ...                   ...                   ...  \n",
       "1118              4.629856                   0.0              0.106786  \n",
       "1119              0.000000                   0.0              0.000000  \n",
       "1120              4.629856                   0.0              0.190752  \n",
       "1121              0.000000                   0.0              0.000000  \n",
       "1122              0.000000                   0.0              0.000000  \n",
       "\n",
       "[1123 rows x 26 columns]"
      ]
     },
     "execution_count": 13,
     "metadata": {},
     "output_type": "execute_result"
    }
   ],
   "source": [
    "fb_stats_combined"
   ]
  },
  {
   "cell_type": "code",
   "execution_count": 15,
   "id": "779aecbe-a52d-4b43-b3b2-7d63005b485b",
   "metadata": {},
   "outputs": [
    {
     "name": "stdout",
     "output_type": "stream",
     "text": [
      "User Guide: https://docs.kepler.gl/docs/keplergl-jupyter\n"
     ]
    }
   ],
   "source": [
    "fb_stats_combined_gpd = fb_stats_combined.merge(karachi_grid)\n",
    "fb_stats_combined_gpd = gpd.GeoDataFrame(fb_stats_combined_gpd,geometry='geometry')\n",
    "fb_stats_combined_gpd['geometry'] = fb_stats_combined_gpd.geometry.apply(lambda x: transform(func=flip,geom=x))\n",
    "map_ = KeplerGl(height=500)\n",
    "map_.add_data(data=fb_stats_combined_gpd,name='fb_pop_data')"
   ]
  },
  {
   "cell_type": "code",
   "execution_count": 16,
   "id": "cabd89c6-a58e-4896-a66a-65a3fe7b796a",
   "metadata": {},
   "outputs": [
    {
     "name": "stdout",
     "output_type": "stream",
     "text": [
      "Map saved to ../viz/karachi_pop_grid_combined.html!\n"
     ]
    }
   ],
   "source": [
    "map_.save_to_html(file_name='../viz/karachi_pop_grid_combined.html',config=kepler_configs.islamabad_grid_population_fb)"
   ]
  },
  {
   "cell_type": "code",
   "execution_count": null,
   "id": "8dfbdb62-d8ce-47ff-9725-833bc32d1ac5",
   "metadata": {},
   "outputs": [],
   "source": []
  }
 ],
 "metadata": {
  "kernelspec": {
   "display_name": "Python 3",
   "language": "python",
   "name": "python3"
  },
  "language_info": {
   "codemirror_mode": {
    "name": "ipython",
    "version": 3
   },
   "file_extension": ".py",
   "mimetype": "text/x-python",
   "name": "python",
   "nbconvert_exporter": "python",
   "pygments_lexer": "ipython3",
   "version": "3.6.13"
  }
 },
 "nbformat": 4,
 "nbformat_minor": 5
}
