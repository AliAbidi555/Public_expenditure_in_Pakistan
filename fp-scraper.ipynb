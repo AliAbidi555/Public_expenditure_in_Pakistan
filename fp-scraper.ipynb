{
 "cells": [
  {
   "cell_type": "code",
   "execution_count": 1,
   "id": "c99efb2b-7672-446d-a53e-f4e51fb3bf53",
   "metadata": {},
   "outputs": [],
   "source": [
    "import pandas as pd\n",
    "import geopandas as gpd\n",
    "import requests as re\n",
    "from bs4 import BeautifulSoup as lux \n",
    "import warnings\n",
    "import numpy as np\n",
    "warnings.filterwarnings(\"ignore\")\n",
    "import os\n",
    "\n",
    "%config Completer.use_jedi = False\n",
    "%matplotlib inline"
   ]
  },
  {
   "cell_type": "code",
   "execution_count": 2,
   "id": "331a80a0-ac21-4c3f-b208-a3943cbb595f",
   "metadata": {},
   "outputs": [],
   "source": [
    "lhr_gpd = gpd.read_file('../data/vector/dev/lahore_mesh.shp')"
   ]
  },
  {
   "cell_type": "code",
   "execution_count": 3,
   "id": "6e4ffe87-16d5-4f97-b781-aabb5f559185",
   "metadata": {},
   "outputs": [],
   "source": [
    "base_url = 'https://www.foodpanda.pk'\n",
    "lat_long_df = lhr_gpd"
   ]
  },
  {
   "cell_type": "code",
   "execution_count": 4,
   "id": "8d3218bc-a222-4eba-bf08-482c9b7d22e1",
   "metadata": {},
   "outputs": [],
   "source": [
    "lat_long_df['SCRAPED']=0"
   ]
  },
  {
   "cell_type": "code",
   "execution_count": null,
   "id": "62aa0118-958b-47c7-a98f-fc56137c3170",
   "metadata": {},
   "outputs": [],
   "source": [
    "lhr_gpd.head)"
   ]
  },
  {
   "cell_type": "code",
   "execution_count": 6,
   "id": "bd277cec-e52d-4b66-b5f8-28b872a44315",
   "metadata": {
    "scrolled": true,
    "tags": []
   },
   "outputs": [
    {
     "name": "stdout",
     "output_type": "stream",
     "text": [
      "2320 COORDINATES REMAINING\n",
      "https://www.foodpanda.pk/restaurants/new?lat=31.346442414625002&lng=74.01583215288892&vertical=restaurants\n",
      "ADDING 0 at https://www.foodpanda.pk/restaurants/new?lat=31.346442414625002&lng=74.01583215288892&vertical=restaurants\n",
      "2319 COORDINATES REMAINING\n",
      "https://www.foodpanda.pk/restaurants/new?lat=31.354114050609265&lng=74.01583215288892&vertical=restaurants\n",
      "ADDING 0 at https://www.foodpanda.pk/restaurants/new?lat=31.354114050609265&lng=74.01583215288892&vertical=restaurants\n",
      "2318 COORDINATES REMAINING\n",
      "https://www.foodpanda.pk/restaurants/new?lat=31.361785060770032&lng=74.01583215288892&vertical=restaurants\n",
      "ADDING 0 at https://www.foodpanda.pk/restaurants/new?lat=31.361785060770032&lng=74.01583215288892&vertical=restaurants\n",
      "2317 COORDINATES REMAINING\n",
      "https://www.foodpanda.pk/restaurants/new?lat=31.33109726553201&lng=74.02481530573012&vertical=restaurants\n",
      "ADDING 0 at https://www.foodpanda.pk/restaurants/new?lat=31.33109726553201&lng=74.02481530573012&vertical=restaurants\n",
      "2316 COORDINATES REMAINING\n",
      "https://www.foodpanda.pk/restaurants/new?lat=31.338770152903727&lng=74.02481530573012&vertical=restaurants\n",
      "ADDING 0 at https://www.foodpanda.pk/restaurants/new?lat=31.338770152903727&lng=74.02481530573012&vertical=restaurants\n",
      "2315 COORDINATES REMAINING\n",
      "https://www.foodpanda.pk/restaurants/new?lat=31.346442414625002&lng=74.02481530573012&vertical=restaurants\n",
      "ADDING 0 at https://www.foodpanda.pk/restaurants/new?lat=31.346442414625002&lng=74.02481530573012&vertical=restaurants\n",
      "2314 COORDINATES REMAINING\n",
      "https://www.foodpanda.pk/restaurants/new?lat=31.354114050609265&lng=74.02481530573012&vertical=restaurants\n",
      "ADDING 0 at https://www.foodpanda.pk/restaurants/new?lat=31.354114050609265&lng=74.02481530573012&vertical=restaurants\n",
      "2313 COORDINATES REMAINING\n",
      "https://www.foodpanda.pk/restaurants/new?lat=31.361785060770032&lng=74.02481530573012&vertical=restaurants\n",
      "ADDING 0 at https://www.foodpanda.pk/restaurants/new?lat=31.361785060770032&lng=74.02481530573012&vertical=restaurants\n",
      "2312 COORDINATES REMAINING\n",
      "https://www.foodpanda.pk/restaurants/new?lat=31.31574961418361&lng=74.03379845857131&vertical=restaurants\n",
      "ADDING 0 at https://www.foodpanda.pk/restaurants/new?lat=31.31574961418361&lng=74.03379845857131&vertical=restaurants\n",
      "2311 COORDINATES REMAINING\n",
      "https://www.foodpanda.pk/restaurants/new?lat=31.32342375259642&lng=74.03379845857131&vertical=restaurants\n",
      "ADDING 0 at https://www.foodpanda.pk/restaurants/new?lat=31.32342375259642&lng=74.03379845857131&vertical=restaurants\n",
      "2310 COORDINATES REMAINING\n",
      "https://www.foodpanda.pk/restaurants/new?lat=31.33109726553201&lng=74.03379845857131&vertical=restaurants\n",
      "ADDING 0 at https://www.foodpanda.pk/restaurants/new?lat=31.33109726553201&lng=74.03379845857131&vertical=restaurants\n",
      "2309 COORDINATES REMAINING\n",
      "https://www.foodpanda.pk/restaurants/new?lat=31.338770152903727&lng=74.03379845857131&vertical=restaurants\n"
     ]
    },
    {
     "ename": "KeyboardInterrupt",
     "evalue": "",
     "output_type": "error",
     "traceback": [
      "\u001b[0;31m---------------------------------------------------------------------------\u001b[0m",
      "\u001b[0;31mKeyboardInterrupt\u001b[0m                         Traceback (most recent call last)",
      "\u001b[0;32m<ipython-input-6-85b322e0d4d6>\u001b[0m in \u001b[0;36m<module>\u001b[0;34m\u001b[0m\n\u001b[1;32m      7\u001b[0m         \u001b[0mgeo_url\u001b[0m \u001b[0;34m=\u001b[0m  \u001b[0;34m'https://www.foodpanda.pk/restaurants/new?lat={LAT}&lng={LON}&vertical=restaurants'\u001b[0m\u001b[0;34m.\u001b[0m\u001b[0mformat\u001b[0m\u001b[0;34m(\u001b[0m\u001b[0mLAT\u001b[0m\u001b[0;34m=\u001b[0m\u001b[0mrow\u001b[0m\u001b[0;34m.\u001b[0m\u001b[0mlat\u001b[0m\u001b[0;34m,\u001b[0m\u001b[0mLON\u001b[0m\u001b[0;34m=\u001b[0m\u001b[0mrow\u001b[0m\u001b[0;34m.\u001b[0m\u001b[0mlon\u001b[0m\u001b[0;34m)\u001b[0m\u001b[0;34m\u001b[0m\u001b[0;34m\u001b[0m\u001b[0m\n\u001b[1;32m      8\u001b[0m         \u001b[0mprint\u001b[0m\u001b[0;34m(\u001b[0m\u001b[0mgeo_url\u001b[0m\u001b[0;34m)\u001b[0m\u001b[0;34m\u001b[0m\u001b[0;34m\u001b[0m\u001b[0m\n\u001b[0;32m----> 9\u001b[0;31m         \u001b[0mre_item\u001b[0m \u001b[0;34m=\u001b[0m \u001b[0mre\u001b[0m\u001b[0;34m.\u001b[0m\u001b[0mget\u001b[0m\u001b[0;34m(\u001b[0m\u001b[0mgeo_url\u001b[0m\u001b[0;34m,\u001b[0m\u001b[0mverify\u001b[0m\u001b[0;34m=\u001b[0m\u001b[0;32mFalse\u001b[0m\u001b[0;34m)\u001b[0m\u001b[0;34m\u001b[0m\u001b[0;34m\u001b[0m\u001b[0m\n\u001b[0m\u001b[1;32m     10\u001b[0m         \u001b[0msoup\u001b[0m \u001b[0;34m=\u001b[0m \u001b[0mlux\u001b[0m\u001b[0;34m(\u001b[0m\u001b[0mre_item\u001b[0m\u001b[0;34m.\u001b[0m\u001b[0mtext\u001b[0m\u001b[0;34m,\u001b[0m\u001b[0;34m'lxml'\u001b[0m\u001b[0;34m)\u001b[0m\u001b[0;34m\u001b[0m\u001b[0;34m\u001b[0m\u001b[0m\n\u001b[1;32m     11\u001b[0m         \u001b[0mfound_list\u001b[0m \u001b[0;34m=\u001b[0m \u001b[0msoup\u001b[0m\u001b[0;34m.\u001b[0m\u001b[0mfind_all\u001b[0m\u001b[0;34m(\u001b[0m\u001b[0;34m'a'\u001b[0m\u001b[0;34m,\u001b[0m\u001b[0;34m{\u001b[0m\u001b[0;34m'class'\u001b[0m\u001b[0;34m:\u001b[0m\u001b[0;34m'hreview-aggregate url'\u001b[0m\u001b[0;34m}\u001b[0m\u001b[0;34m)\u001b[0m\u001b[0;34m\u001b[0m\u001b[0;34m\u001b[0m\u001b[0m\n",
      "\u001b[0;32m~/anaconda3/envs/fnfjug/lib/python3.6/site-packages/requests/api.py\u001b[0m in \u001b[0;36mget\u001b[0;34m(url, params, **kwargs)\u001b[0m\n\u001b[1;32m     73\u001b[0m     \"\"\"\n\u001b[1;32m     74\u001b[0m \u001b[0;34m\u001b[0m\u001b[0m\n\u001b[0;32m---> 75\u001b[0;31m     \u001b[0;32mreturn\u001b[0m \u001b[0mrequest\u001b[0m\u001b[0;34m(\u001b[0m\u001b[0;34m'get'\u001b[0m\u001b[0;34m,\u001b[0m \u001b[0murl\u001b[0m\u001b[0;34m,\u001b[0m \u001b[0mparams\u001b[0m\u001b[0;34m=\u001b[0m\u001b[0mparams\u001b[0m\u001b[0;34m,\u001b[0m \u001b[0;34m**\u001b[0m\u001b[0mkwargs\u001b[0m\u001b[0;34m)\u001b[0m\u001b[0;34m\u001b[0m\u001b[0;34m\u001b[0m\u001b[0m\n\u001b[0m\u001b[1;32m     76\u001b[0m \u001b[0;34m\u001b[0m\u001b[0m\n\u001b[1;32m     77\u001b[0m \u001b[0;34m\u001b[0m\u001b[0m\n",
      "\u001b[0;32m~/anaconda3/envs/fnfjug/lib/python3.6/site-packages/requests/api.py\u001b[0m in \u001b[0;36mrequest\u001b[0;34m(method, url, **kwargs)\u001b[0m\n\u001b[1;32m     59\u001b[0m     \u001b[0;31m# cases, and look like a memory leak in others.\u001b[0m\u001b[0;34m\u001b[0m\u001b[0;34m\u001b[0m\u001b[0;34m\u001b[0m\u001b[0m\n\u001b[1;32m     60\u001b[0m     \u001b[0;32mwith\u001b[0m \u001b[0msessions\u001b[0m\u001b[0;34m.\u001b[0m\u001b[0mSession\u001b[0m\u001b[0;34m(\u001b[0m\u001b[0;34m)\u001b[0m \u001b[0;32mas\u001b[0m \u001b[0msession\u001b[0m\u001b[0;34m:\u001b[0m\u001b[0;34m\u001b[0m\u001b[0;34m\u001b[0m\u001b[0m\n\u001b[0;32m---> 61\u001b[0;31m         \u001b[0;32mreturn\u001b[0m \u001b[0msession\u001b[0m\u001b[0;34m.\u001b[0m\u001b[0mrequest\u001b[0m\u001b[0;34m(\u001b[0m\u001b[0mmethod\u001b[0m\u001b[0;34m=\u001b[0m\u001b[0mmethod\u001b[0m\u001b[0;34m,\u001b[0m \u001b[0murl\u001b[0m\u001b[0;34m=\u001b[0m\u001b[0murl\u001b[0m\u001b[0;34m,\u001b[0m \u001b[0;34m**\u001b[0m\u001b[0mkwargs\u001b[0m\u001b[0;34m)\u001b[0m\u001b[0;34m\u001b[0m\u001b[0;34m\u001b[0m\u001b[0m\n\u001b[0m\u001b[1;32m     62\u001b[0m \u001b[0;34m\u001b[0m\u001b[0m\n\u001b[1;32m     63\u001b[0m \u001b[0;34m\u001b[0m\u001b[0m\n",
      "\u001b[0;32m~/anaconda3/envs/fnfjug/lib/python3.6/site-packages/requests/sessions.py\u001b[0m in \u001b[0;36mrequest\u001b[0;34m(self, method, url, params, data, headers, cookies, files, auth, timeout, allow_redirects, proxies, hooks, stream, verify, cert, json)\u001b[0m\n\u001b[1;32m    540\u001b[0m         }\n\u001b[1;32m    541\u001b[0m         \u001b[0msend_kwargs\u001b[0m\u001b[0;34m.\u001b[0m\u001b[0mupdate\u001b[0m\u001b[0;34m(\u001b[0m\u001b[0msettings\u001b[0m\u001b[0;34m)\u001b[0m\u001b[0;34m\u001b[0m\u001b[0;34m\u001b[0m\u001b[0m\n\u001b[0;32m--> 542\u001b[0;31m         \u001b[0mresp\u001b[0m \u001b[0;34m=\u001b[0m \u001b[0mself\u001b[0m\u001b[0;34m.\u001b[0m\u001b[0msend\u001b[0m\u001b[0;34m(\u001b[0m\u001b[0mprep\u001b[0m\u001b[0;34m,\u001b[0m \u001b[0;34m**\u001b[0m\u001b[0msend_kwargs\u001b[0m\u001b[0;34m)\u001b[0m\u001b[0;34m\u001b[0m\u001b[0;34m\u001b[0m\u001b[0m\n\u001b[0m\u001b[1;32m    543\u001b[0m \u001b[0;34m\u001b[0m\u001b[0m\n\u001b[1;32m    544\u001b[0m         \u001b[0;32mreturn\u001b[0m \u001b[0mresp\u001b[0m\u001b[0;34m\u001b[0m\u001b[0;34m\u001b[0m\u001b[0m\n",
      "\u001b[0;32m~/anaconda3/envs/fnfjug/lib/python3.6/site-packages/requests/sessions.py\u001b[0m in \u001b[0;36msend\u001b[0;34m(self, request, **kwargs)\u001b[0m\n\u001b[1;32m    653\u001b[0m \u001b[0;34m\u001b[0m\u001b[0m\n\u001b[1;32m    654\u001b[0m         \u001b[0;31m# Send the request\u001b[0m\u001b[0;34m\u001b[0m\u001b[0;34m\u001b[0m\u001b[0;34m\u001b[0m\u001b[0m\n\u001b[0;32m--> 655\u001b[0;31m         \u001b[0mr\u001b[0m \u001b[0;34m=\u001b[0m \u001b[0madapter\u001b[0m\u001b[0;34m.\u001b[0m\u001b[0msend\u001b[0m\u001b[0;34m(\u001b[0m\u001b[0mrequest\u001b[0m\u001b[0;34m,\u001b[0m \u001b[0;34m**\u001b[0m\u001b[0mkwargs\u001b[0m\u001b[0;34m)\u001b[0m\u001b[0;34m\u001b[0m\u001b[0;34m\u001b[0m\u001b[0m\n\u001b[0m\u001b[1;32m    656\u001b[0m \u001b[0;34m\u001b[0m\u001b[0m\n\u001b[1;32m    657\u001b[0m         \u001b[0;31m# Total elapsed time of the request (approximately)\u001b[0m\u001b[0;34m\u001b[0m\u001b[0;34m\u001b[0m\u001b[0;34m\u001b[0m\u001b[0m\n",
      "\u001b[0;32m~/anaconda3/envs/fnfjug/lib/python3.6/site-packages/requests/adapters.py\u001b[0m in \u001b[0;36msend\u001b[0;34m(self, request, stream, timeout, verify, cert, proxies)\u001b[0m\n\u001b[1;32m    447\u001b[0m                     \u001b[0mdecode_content\u001b[0m\u001b[0;34m=\u001b[0m\u001b[0;32mFalse\u001b[0m\u001b[0;34m,\u001b[0m\u001b[0;34m\u001b[0m\u001b[0;34m\u001b[0m\u001b[0m\n\u001b[1;32m    448\u001b[0m                     \u001b[0mretries\u001b[0m\u001b[0;34m=\u001b[0m\u001b[0mself\u001b[0m\u001b[0;34m.\u001b[0m\u001b[0mmax_retries\u001b[0m\u001b[0;34m,\u001b[0m\u001b[0;34m\u001b[0m\u001b[0;34m\u001b[0m\u001b[0m\n\u001b[0;32m--> 449\u001b[0;31m                     \u001b[0mtimeout\u001b[0m\u001b[0;34m=\u001b[0m\u001b[0mtimeout\u001b[0m\u001b[0;34m\u001b[0m\u001b[0;34m\u001b[0m\u001b[0m\n\u001b[0m\u001b[1;32m    450\u001b[0m                 )\n\u001b[1;32m    451\u001b[0m \u001b[0;34m\u001b[0m\u001b[0m\n",
      "\u001b[0;32m~/anaconda3/envs/fnfjug/lib/python3.6/site-packages/urllib3/connectionpool.py\u001b[0m in \u001b[0;36murlopen\u001b[0;34m(self, method, url, body, headers, retries, redirect, assert_same_host, timeout, pool_timeout, release_conn, chunked, body_pos, **response_kw)\u001b[0m\n\u001b[1;32m    704\u001b[0m                 \u001b[0mbody\u001b[0m\u001b[0;34m=\u001b[0m\u001b[0mbody\u001b[0m\u001b[0;34m,\u001b[0m\u001b[0;34m\u001b[0m\u001b[0;34m\u001b[0m\u001b[0m\n\u001b[1;32m    705\u001b[0m                 \u001b[0mheaders\u001b[0m\u001b[0;34m=\u001b[0m\u001b[0mheaders\u001b[0m\u001b[0;34m,\u001b[0m\u001b[0;34m\u001b[0m\u001b[0;34m\u001b[0m\u001b[0m\n\u001b[0;32m--> 706\u001b[0;31m                 \u001b[0mchunked\u001b[0m\u001b[0;34m=\u001b[0m\u001b[0mchunked\u001b[0m\u001b[0;34m,\u001b[0m\u001b[0;34m\u001b[0m\u001b[0;34m\u001b[0m\u001b[0m\n\u001b[0m\u001b[1;32m    707\u001b[0m             )\n\u001b[1;32m    708\u001b[0m \u001b[0;34m\u001b[0m\u001b[0m\n",
      "\u001b[0;32m~/anaconda3/envs/fnfjug/lib/python3.6/site-packages/urllib3/connectionpool.py\u001b[0m in \u001b[0;36m_make_request\u001b[0;34m(self, conn, method, url, timeout, chunked, **httplib_request_kw)\u001b[0m\n\u001b[1;32m    443\u001b[0m                     \u001b[0;31m# Python 3 (including for exceptions like SystemExit).\u001b[0m\u001b[0;34m\u001b[0m\u001b[0;34m\u001b[0m\u001b[0;34m\u001b[0m\u001b[0m\n\u001b[1;32m    444\u001b[0m                     \u001b[0;31m# Otherwise it looks like a bug in the code.\u001b[0m\u001b[0;34m\u001b[0m\u001b[0;34m\u001b[0m\u001b[0;34m\u001b[0m\u001b[0m\n\u001b[0;32m--> 445\u001b[0;31m                     \u001b[0msix\u001b[0m\u001b[0;34m.\u001b[0m\u001b[0mraise_from\u001b[0m\u001b[0;34m(\u001b[0m\u001b[0me\u001b[0m\u001b[0;34m,\u001b[0m \u001b[0;32mNone\u001b[0m\u001b[0;34m)\u001b[0m\u001b[0;34m\u001b[0m\u001b[0;34m\u001b[0m\u001b[0m\n\u001b[0m\u001b[1;32m    446\u001b[0m         \u001b[0;32mexcept\u001b[0m \u001b[0;34m(\u001b[0m\u001b[0mSocketTimeout\u001b[0m\u001b[0;34m,\u001b[0m \u001b[0mBaseSSLError\u001b[0m\u001b[0;34m,\u001b[0m \u001b[0mSocketError\u001b[0m\u001b[0;34m)\u001b[0m \u001b[0;32mas\u001b[0m \u001b[0me\u001b[0m\u001b[0;34m:\u001b[0m\u001b[0;34m\u001b[0m\u001b[0;34m\u001b[0m\u001b[0m\n\u001b[1;32m    447\u001b[0m             \u001b[0mself\u001b[0m\u001b[0;34m.\u001b[0m\u001b[0m_raise_timeout\u001b[0m\u001b[0;34m(\u001b[0m\u001b[0merr\u001b[0m\u001b[0;34m=\u001b[0m\u001b[0me\u001b[0m\u001b[0;34m,\u001b[0m \u001b[0murl\u001b[0m\u001b[0;34m=\u001b[0m\u001b[0murl\u001b[0m\u001b[0;34m,\u001b[0m \u001b[0mtimeout_value\u001b[0m\u001b[0;34m=\u001b[0m\u001b[0mread_timeout\u001b[0m\u001b[0;34m)\u001b[0m\u001b[0;34m\u001b[0m\u001b[0;34m\u001b[0m\u001b[0m\n",
      "\u001b[0;32m~/anaconda3/envs/fnfjug/lib/python3.6/site-packages/urllib3/packages/six.py\u001b[0m in \u001b[0;36mraise_from\u001b[0;34m(value, from_value)\u001b[0m\n",
      "\u001b[0;32m~/anaconda3/envs/fnfjug/lib/python3.6/site-packages/urllib3/connectionpool.py\u001b[0m in \u001b[0;36m_make_request\u001b[0;34m(self, conn, method, url, timeout, chunked, **httplib_request_kw)\u001b[0m\n\u001b[1;32m    438\u001b[0m                 \u001b[0;31m# Python 3\u001b[0m\u001b[0;34m\u001b[0m\u001b[0;34m\u001b[0m\u001b[0;34m\u001b[0m\u001b[0m\n\u001b[1;32m    439\u001b[0m                 \u001b[0;32mtry\u001b[0m\u001b[0;34m:\u001b[0m\u001b[0;34m\u001b[0m\u001b[0;34m\u001b[0m\u001b[0m\n\u001b[0;32m--> 440\u001b[0;31m                     \u001b[0mhttplib_response\u001b[0m \u001b[0;34m=\u001b[0m \u001b[0mconn\u001b[0m\u001b[0;34m.\u001b[0m\u001b[0mgetresponse\u001b[0m\u001b[0;34m(\u001b[0m\u001b[0;34m)\u001b[0m\u001b[0;34m\u001b[0m\u001b[0;34m\u001b[0m\u001b[0m\n\u001b[0m\u001b[1;32m    441\u001b[0m                 \u001b[0;32mexcept\u001b[0m \u001b[0mBaseException\u001b[0m \u001b[0;32mas\u001b[0m \u001b[0me\u001b[0m\u001b[0;34m:\u001b[0m\u001b[0;34m\u001b[0m\u001b[0;34m\u001b[0m\u001b[0m\n\u001b[1;32m    442\u001b[0m                     \u001b[0;31m# Remove the TypeError from the exception chain in\u001b[0m\u001b[0;34m\u001b[0m\u001b[0;34m\u001b[0m\u001b[0;34m\u001b[0m\u001b[0m\n",
      "\u001b[0;32m~/anaconda3/envs/fnfjug/lib/python3.6/http/client.py\u001b[0m in \u001b[0;36mgetresponse\u001b[0;34m(self)\u001b[0m\n\u001b[1;32m   1377\u001b[0m         \u001b[0;32mtry\u001b[0m\u001b[0;34m:\u001b[0m\u001b[0;34m\u001b[0m\u001b[0;34m\u001b[0m\u001b[0m\n\u001b[1;32m   1378\u001b[0m             \u001b[0;32mtry\u001b[0m\u001b[0;34m:\u001b[0m\u001b[0;34m\u001b[0m\u001b[0;34m\u001b[0m\u001b[0m\n\u001b[0;32m-> 1379\u001b[0;31m                 \u001b[0mresponse\u001b[0m\u001b[0;34m.\u001b[0m\u001b[0mbegin\u001b[0m\u001b[0;34m(\u001b[0m\u001b[0;34m)\u001b[0m\u001b[0;34m\u001b[0m\u001b[0;34m\u001b[0m\u001b[0m\n\u001b[0m\u001b[1;32m   1380\u001b[0m             \u001b[0;32mexcept\u001b[0m \u001b[0mConnectionError\u001b[0m\u001b[0;34m:\u001b[0m\u001b[0;34m\u001b[0m\u001b[0;34m\u001b[0m\u001b[0m\n\u001b[1;32m   1381\u001b[0m                 \u001b[0mself\u001b[0m\u001b[0;34m.\u001b[0m\u001b[0mclose\u001b[0m\u001b[0;34m(\u001b[0m\u001b[0;34m)\u001b[0m\u001b[0;34m\u001b[0m\u001b[0;34m\u001b[0m\u001b[0m\n",
      "\u001b[0;32m~/anaconda3/envs/fnfjug/lib/python3.6/http/client.py\u001b[0m in \u001b[0;36mbegin\u001b[0;34m(self)\u001b[0m\n\u001b[1;32m    309\u001b[0m         \u001b[0;31m# read until we get a non-100 response\u001b[0m\u001b[0;34m\u001b[0m\u001b[0;34m\u001b[0m\u001b[0;34m\u001b[0m\u001b[0m\n\u001b[1;32m    310\u001b[0m         \u001b[0;32mwhile\u001b[0m \u001b[0;32mTrue\u001b[0m\u001b[0;34m:\u001b[0m\u001b[0;34m\u001b[0m\u001b[0;34m\u001b[0m\u001b[0m\n\u001b[0;32m--> 311\u001b[0;31m             \u001b[0mversion\u001b[0m\u001b[0;34m,\u001b[0m \u001b[0mstatus\u001b[0m\u001b[0;34m,\u001b[0m \u001b[0mreason\u001b[0m \u001b[0;34m=\u001b[0m \u001b[0mself\u001b[0m\u001b[0;34m.\u001b[0m\u001b[0m_read_status\u001b[0m\u001b[0;34m(\u001b[0m\u001b[0;34m)\u001b[0m\u001b[0;34m\u001b[0m\u001b[0;34m\u001b[0m\u001b[0m\n\u001b[0m\u001b[1;32m    312\u001b[0m             \u001b[0;32mif\u001b[0m \u001b[0mstatus\u001b[0m \u001b[0;34m!=\u001b[0m \u001b[0mCONTINUE\u001b[0m\u001b[0;34m:\u001b[0m\u001b[0;34m\u001b[0m\u001b[0;34m\u001b[0m\u001b[0m\n\u001b[1;32m    313\u001b[0m                 \u001b[0;32mbreak\u001b[0m\u001b[0;34m\u001b[0m\u001b[0;34m\u001b[0m\u001b[0m\n",
      "\u001b[0;32m~/anaconda3/envs/fnfjug/lib/python3.6/http/client.py\u001b[0m in \u001b[0;36m_read_status\u001b[0;34m(self)\u001b[0m\n\u001b[1;32m    270\u001b[0m \u001b[0;34m\u001b[0m\u001b[0m\n\u001b[1;32m    271\u001b[0m     \u001b[0;32mdef\u001b[0m \u001b[0m_read_status\u001b[0m\u001b[0;34m(\u001b[0m\u001b[0mself\u001b[0m\u001b[0;34m)\u001b[0m\u001b[0;34m:\u001b[0m\u001b[0;34m\u001b[0m\u001b[0;34m\u001b[0m\u001b[0m\n\u001b[0;32m--> 272\u001b[0;31m         \u001b[0mline\u001b[0m \u001b[0;34m=\u001b[0m \u001b[0mstr\u001b[0m\u001b[0;34m(\u001b[0m\u001b[0mself\u001b[0m\u001b[0;34m.\u001b[0m\u001b[0mfp\u001b[0m\u001b[0;34m.\u001b[0m\u001b[0mreadline\u001b[0m\u001b[0;34m(\u001b[0m\u001b[0m_MAXLINE\u001b[0m \u001b[0;34m+\u001b[0m \u001b[0;36m1\u001b[0m\u001b[0;34m)\u001b[0m\u001b[0;34m,\u001b[0m \u001b[0;34m\"iso-8859-1\"\u001b[0m\u001b[0;34m)\u001b[0m\u001b[0;34m\u001b[0m\u001b[0;34m\u001b[0m\u001b[0m\n\u001b[0m\u001b[1;32m    273\u001b[0m         \u001b[0;32mif\u001b[0m \u001b[0mlen\u001b[0m\u001b[0;34m(\u001b[0m\u001b[0mline\u001b[0m\u001b[0;34m)\u001b[0m \u001b[0;34m>\u001b[0m \u001b[0m_MAXLINE\u001b[0m\u001b[0;34m:\u001b[0m\u001b[0;34m\u001b[0m\u001b[0;34m\u001b[0m\u001b[0m\n\u001b[1;32m    274\u001b[0m             \u001b[0;32mraise\u001b[0m \u001b[0mLineTooLong\u001b[0m\u001b[0;34m(\u001b[0m\u001b[0;34m\"status line\"\u001b[0m\u001b[0;34m)\u001b[0m\u001b[0;34m\u001b[0m\u001b[0;34m\u001b[0m\u001b[0m\n",
      "\u001b[0;32m~/anaconda3/envs/fnfjug/lib/python3.6/socket.py\u001b[0m in \u001b[0;36mreadinto\u001b[0;34m(self, b)\u001b[0m\n\u001b[1;32m    584\u001b[0m         \u001b[0;32mwhile\u001b[0m \u001b[0;32mTrue\u001b[0m\u001b[0;34m:\u001b[0m\u001b[0;34m\u001b[0m\u001b[0;34m\u001b[0m\u001b[0m\n\u001b[1;32m    585\u001b[0m             \u001b[0;32mtry\u001b[0m\u001b[0;34m:\u001b[0m\u001b[0;34m\u001b[0m\u001b[0;34m\u001b[0m\u001b[0m\n\u001b[0;32m--> 586\u001b[0;31m                 \u001b[0;32mreturn\u001b[0m \u001b[0mself\u001b[0m\u001b[0;34m.\u001b[0m\u001b[0m_sock\u001b[0m\u001b[0;34m.\u001b[0m\u001b[0mrecv_into\u001b[0m\u001b[0;34m(\u001b[0m\u001b[0mb\u001b[0m\u001b[0;34m)\u001b[0m\u001b[0;34m\u001b[0m\u001b[0;34m\u001b[0m\u001b[0m\n\u001b[0m\u001b[1;32m    587\u001b[0m             \u001b[0;32mexcept\u001b[0m \u001b[0mtimeout\u001b[0m\u001b[0;34m:\u001b[0m\u001b[0;34m\u001b[0m\u001b[0;34m\u001b[0m\u001b[0m\n\u001b[1;32m    588\u001b[0m                 \u001b[0mself\u001b[0m\u001b[0;34m.\u001b[0m\u001b[0m_timeout_occurred\u001b[0m \u001b[0;34m=\u001b[0m \u001b[0;32mTrue\u001b[0m\u001b[0;34m\u001b[0m\u001b[0;34m\u001b[0m\u001b[0m\n",
      "\u001b[0;32m~/anaconda3/envs/fnfjug/lib/python3.6/ssl.py\u001b[0m in \u001b[0;36mrecv_into\u001b[0;34m(self, buffer, nbytes, flags)\u001b[0m\n\u001b[1;32m   1010\u001b[0m                   \u001b[0;34m\"non-zero flags not allowed in calls to recv_into() on %s\"\u001b[0m \u001b[0;34m%\u001b[0m\u001b[0;34m\u001b[0m\u001b[0;34m\u001b[0m\u001b[0m\n\u001b[1;32m   1011\u001b[0m                   self.__class__)\n\u001b[0;32m-> 1012\u001b[0;31m             \u001b[0;32mreturn\u001b[0m \u001b[0mself\u001b[0m\u001b[0;34m.\u001b[0m\u001b[0mread\u001b[0m\u001b[0;34m(\u001b[0m\u001b[0mnbytes\u001b[0m\u001b[0;34m,\u001b[0m \u001b[0mbuffer\u001b[0m\u001b[0;34m)\u001b[0m\u001b[0;34m\u001b[0m\u001b[0;34m\u001b[0m\u001b[0m\n\u001b[0m\u001b[1;32m   1013\u001b[0m         \u001b[0;32melse\u001b[0m\u001b[0;34m:\u001b[0m\u001b[0;34m\u001b[0m\u001b[0;34m\u001b[0m\u001b[0m\n\u001b[1;32m   1014\u001b[0m             \u001b[0;32mreturn\u001b[0m \u001b[0msocket\u001b[0m\u001b[0;34m.\u001b[0m\u001b[0mrecv_into\u001b[0m\u001b[0;34m(\u001b[0m\u001b[0mself\u001b[0m\u001b[0;34m,\u001b[0m \u001b[0mbuffer\u001b[0m\u001b[0;34m,\u001b[0m \u001b[0mnbytes\u001b[0m\u001b[0;34m,\u001b[0m \u001b[0mflags\u001b[0m\u001b[0;34m)\u001b[0m\u001b[0;34m\u001b[0m\u001b[0;34m\u001b[0m\u001b[0m\n",
      "\u001b[0;32m~/anaconda3/envs/fnfjug/lib/python3.6/ssl.py\u001b[0m in \u001b[0;36mread\u001b[0;34m(self, len, buffer)\u001b[0m\n\u001b[1;32m    872\u001b[0m             \u001b[0;32mraise\u001b[0m \u001b[0mValueError\u001b[0m\u001b[0;34m(\u001b[0m\u001b[0;34m\"Read on closed or unwrapped SSL socket.\"\u001b[0m\u001b[0;34m)\u001b[0m\u001b[0;34m\u001b[0m\u001b[0;34m\u001b[0m\u001b[0m\n\u001b[1;32m    873\u001b[0m         \u001b[0;32mtry\u001b[0m\u001b[0;34m:\u001b[0m\u001b[0;34m\u001b[0m\u001b[0;34m\u001b[0m\u001b[0m\n\u001b[0;32m--> 874\u001b[0;31m             \u001b[0;32mreturn\u001b[0m \u001b[0mself\u001b[0m\u001b[0;34m.\u001b[0m\u001b[0m_sslobj\u001b[0m\u001b[0;34m.\u001b[0m\u001b[0mread\u001b[0m\u001b[0;34m(\u001b[0m\u001b[0mlen\u001b[0m\u001b[0;34m,\u001b[0m \u001b[0mbuffer\u001b[0m\u001b[0;34m)\u001b[0m\u001b[0;34m\u001b[0m\u001b[0;34m\u001b[0m\u001b[0m\n\u001b[0m\u001b[1;32m    875\u001b[0m         \u001b[0;32mexcept\u001b[0m \u001b[0mSSLError\u001b[0m \u001b[0;32mas\u001b[0m \u001b[0mx\u001b[0m\u001b[0;34m:\u001b[0m\u001b[0;34m\u001b[0m\u001b[0;34m\u001b[0m\u001b[0m\n\u001b[1;32m    876\u001b[0m             \u001b[0;32mif\u001b[0m \u001b[0mx\u001b[0m\u001b[0;34m.\u001b[0m\u001b[0margs\u001b[0m\u001b[0;34m[\u001b[0m\u001b[0;36m0\u001b[0m\u001b[0;34m]\u001b[0m \u001b[0;34m==\u001b[0m \u001b[0mSSL_ERROR_EOF\u001b[0m \u001b[0;32mand\u001b[0m \u001b[0mself\u001b[0m\u001b[0;34m.\u001b[0m\u001b[0msuppress_ragged_eofs\u001b[0m\u001b[0;34m:\u001b[0m\u001b[0;34m\u001b[0m\u001b[0;34m\u001b[0m\u001b[0m\n",
      "\u001b[0;32m~/anaconda3/envs/fnfjug/lib/python3.6/ssl.py\u001b[0m in \u001b[0;36mread\u001b[0;34m(self, len, buffer)\u001b[0m\n\u001b[1;32m    629\u001b[0m         \"\"\"\n\u001b[1;32m    630\u001b[0m         \u001b[0;32mif\u001b[0m \u001b[0mbuffer\u001b[0m \u001b[0;32mis\u001b[0m \u001b[0;32mnot\u001b[0m \u001b[0;32mNone\u001b[0m\u001b[0;34m:\u001b[0m\u001b[0;34m\u001b[0m\u001b[0;34m\u001b[0m\u001b[0m\n\u001b[0;32m--> 631\u001b[0;31m             \u001b[0mv\u001b[0m \u001b[0;34m=\u001b[0m \u001b[0mself\u001b[0m\u001b[0;34m.\u001b[0m\u001b[0m_sslobj\u001b[0m\u001b[0;34m.\u001b[0m\u001b[0mread\u001b[0m\u001b[0;34m(\u001b[0m\u001b[0mlen\u001b[0m\u001b[0;34m,\u001b[0m \u001b[0mbuffer\u001b[0m\u001b[0;34m)\u001b[0m\u001b[0;34m\u001b[0m\u001b[0;34m\u001b[0m\u001b[0m\n\u001b[0m\u001b[1;32m    632\u001b[0m         \u001b[0;32melse\u001b[0m\u001b[0;34m:\u001b[0m\u001b[0;34m\u001b[0m\u001b[0;34m\u001b[0m\u001b[0m\n\u001b[1;32m    633\u001b[0m             \u001b[0mv\u001b[0m \u001b[0;34m=\u001b[0m \u001b[0mself\u001b[0m\u001b[0;34m.\u001b[0m\u001b[0m_sslobj\u001b[0m\u001b[0;34m.\u001b[0m\u001b[0mread\u001b[0m\u001b[0;34m(\u001b[0m\u001b[0mlen\u001b[0m\u001b[0;34m)\u001b[0m\u001b[0;34m\u001b[0m\u001b[0;34m\u001b[0m\u001b[0m\n",
      "\u001b[0;31mKeyboardInterrupt\u001b[0m: "
     ]
    }
   ],
   "source": [
    "for ind,row in lat_long_df.iterrows():\n",
    "    geo_url_list = []\n",
    "    lat_long = str(row.lat)+\"_\"+str(row.lon)\n",
    "    if(row.SCRAPED == 0):\n",
    "        remaining = '{REMAINING} COORDINATES REMAINING'.format(REMAINING = len(lat_long_df)-ind)\n",
    "        print(remaining)\n",
    "        geo_url =  'https://www.foodpanda.pk/restaurants/new?lat={LAT}&lng={LON}&vertical=restaurants'.format(LAT=row.lat,LON=row.lon)\n",
    "        print(geo_url)\n",
    "        re_item = re.get(geo_url,verify=False)\n",
    "        soup = lux(re_item.text,'lxml')\n",
    "        found_list = soup.find_all('a',{'class':'hreview-aggregate url'})\n",
    "        print('ADDING {N_REST} at {GEO_URL}'.format(N_REST=len(found_list),GEO_URL=geo_url))\n",
    "        if(len(found_list) != 0):\n",
    "            for item in found_list:\n",
    "                geo_url_list.append(base_url+ item['href'])\n",
    "            geo_url_series = pd.Series(geo_url_list)\n",
    "    #         print(geo_url_series)\n",
    "            lat_long_list = [lat_long_df.LAT_LONG] * len(geo_url_series)\n",
    "            lat_long_series = pd.Series(lat_long_list)\n",
    "            temp_df = pd.DataFrame({'LAT_LONG':lat_long_series,'URL':geo_url_series})\n",
    "            df_name = 'isb_lat_long/{LAT}_{LONG}.csv'.format(LAT=row.lat,LONG=row.lon)\n",
    "            temp_df.to_csv(df_name,index=False)\n",
    "    else:\n",
    "        print(\"{LAT_LONG} already captured\".format(LAT_LONG=lat_long))\n",
    "    #         print(temp_df)\n",
    "    #         read_df =  pd.read_csv('lahore_geo_url_restaurants.csv')\n",
    "    #         frames =  [final_df,read_df]\n",
    "    #         to_save_df =  pd.concat(frames)\n",
    "    #         to_save_df = to_save_df[['LAT_LONG', 'SCRAPED', 'URL']]\n",
    "    #         to_save_df['LAT_LONG'] = to_save_df.LAT_LONG.apply(lambda x: str(x).split('(')[1].split(')')[0])\n",
    "    #         to_save_df = to_save_df.drop_duplicates(keep='first')\n",
    "    #         to_save_df.to_csv('lahore_geo_url_restaurants.csv',index=False)"
   ]
  },
  {
   "cell_type": "code",
   "execution_count": 27,
   "id": "76c96791-4708-4870-aa24-40ea9ade6b59",
   "metadata": {},
   "outputs": [],
   "source": [
    "headers = {'User-Agent': 'Mozilla/5.0 (Windows NT 6.1; WOW64; rv:50.0) Gecko/20100101 Firefox/50.0'}\n",
    "url = 'https://www.foodpanda.pk/restaurants/new?lat=31.478106016731854&lng=74.3279239088697&vertical=restaurants'\n",
    "re_item = re.get(url,headers)"
   ]
  },
  {
   "cell_type": "code",
   "execution_count": 28,
   "id": "b7bf7758-28f4-4546-85f8-e3746a025619",
   "metadata": {},
   "outputs": [
    {
     "name": "stdout",
     "output_type": "stream",
     "text": [
      "ADDING 0 at https://www.foodpanda.pk/restaurants/new?lat=31.338770152903727&lng=74.03379845857131&vertical=restaurants\n"
     ]
    }
   ],
   "source": [
    "soup = lux(re_item.text,'lxml')\n",
    "found_list = soup.find_all('a',{'class':'hreview-aggregate url'})\n",
    "print('ADDING {N_REST} at {GEO_URL}'.format(N_REST=len(found_list),GEO_URL=geo_url))"
   ]
  },
  {
   "cell_type": "code",
   "execution_count": 29,
   "id": "fcf8358e-a944-4abd-9bd5-4d2f036f0a09",
   "metadata": {},
   "outputs": [],
   "source": [
    "soup = lux(re_item.text,'lxml')\n"
   ]
  },
  {
   "cell_type": "code",
   "execution_count": 30,
   "id": "069551ad-5580-428c-9e15-e4627f9019cb",
   "metadata": {},
   "outputs": [
    {
     "data": {
      "text/plain": [
       "<!DOCTYPE html>\n",
       "<html lang=\"en\">\n",
       "<head>\n",
       "<meta charset=\"utf-8\"/>\n",
       "<meta content=\"width=device-width, initial-scale=1\" name=\"viewport\"/>\n",
       "<title>Access to this page has been denied.</title>\n",
       "<link href=\"https://fonts.googleapis.com/css?family=Open+Sans:300\" rel=\"stylesheet\"/>\n",
       "<style>\n",
       "        html, body {\n",
       "            margin: 0;\n",
       "            padding: 0;\n",
       "            font-family: 'Open Sans', sans-serif;\n",
       "            color: #000;\n",
       "        }\n",
       "\n",
       "        a {\n",
       "            color: #c5c5c5;\n",
       "            text-decoration: none;\n",
       "        }\n",
       "\n",
       "        .container {\n",
       "            align-items: center;\n",
       "            display: flex;\n",
       "            flex: 1;\n",
       "            justify-content: space-between;\n",
       "            flex-direction: column;\n",
       "            height: 100%;\n",
       "        }\n",
       "\n",
       "        .container > div {\n",
       "            width: 100%;\n",
       "            display: flex;\n",
       "            justify-content: center;\n",
       "        }\n",
       "\n",
       "        .container > div > div {\n",
       "            display: flex;\n",
       "            width: 80%;\n",
       "        }\n",
       "\n",
       "        .customer-logo-wrapper {\n",
       "            padding-top: 2rem;\n",
       "            flex-grow: 0;\n",
       "            background-color: #fff;\n",
       "            visibility: hidden;\n",
       "        }\n",
       "\n",
       "        .customer-logo {\n",
       "            border-bottom: 1px solid #000;\n",
       "        }\n",
       "\n",
       "        .customer-logo > img {\n",
       "            padding-bottom: 1rem;\n",
       "            max-height: 50px;\n",
       "            max-width: 100%;\n",
       "        }\n",
       "\n",
       "        .page-title-wrapper {\n",
       "            flex-grow: 2;\n",
       "        }\n",
       "\n",
       "        .page-title {\n",
       "            flex-direction: column-reverse;\n",
       "        }\n",
       "\n",
       "        .content-wrapper {\n",
       "            flex-grow: 5;\n",
       "        }\n",
       "\n",
       "        .content {\n",
       "            flex-direction: column;\n",
       "        }\n",
       "\n",
       "        .page-footer-wrapper {\n",
       "            align-items: center;\n",
       "            flex-grow: 0.2;\n",
       "            background-color: #000;\n",
       "            color: #c5c5c5;\n",
       "            font-size: 70%;\n",
       "        }\n",
       "\n",
       "        @media (min-width: 768px) {\n",
       "            html, body {\n",
       "                height: 100%;\n",
       "            }\n",
       "        }\n",
       "    </style>\n",
       "<!-- Custom CSS -->\n",
       "</head>\n",
       "<body>\n",
       "<section class=\"container\">\n",
       "<div class=\"customer-logo-wrapper\">\n",
       "<div class=\"customer-logo\">\n",
       "<img alt=\"Logo\" src=\"\"/>\n",
       "</div>\n",
       "</div>\n",
       "<div class=\"page-title-wrapper\">\n",
       "<div class=\"page-title\">\n",
       "<h1>Please verify you are a human</h1>\n",
       "</div>\n",
       "</div>\n",
       "<div class=\"content-wrapper\">\n",
       "<div class=\"content\">\n",
       "<div id=\"px-captcha\">\n",
       "</div>\n",
       "<p>\n",
       "                Access to this page has been denied because we believe you are using automation tools to browse the\n",
       "                website.\n",
       "            </p>\n",
       "<p>\n",
       "                This may happen as a result of the following:\n",
       "            </p>\n",
       "<ul>\n",
       "<li>\n",
       "                    Javascript is disabled or blocked by an extension (ad blockers for example)\n",
       "                </li>\n",
       "<li>\n",
       "                    Your browser does not support cookies\n",
       "                </li>\n",
       "</ul>\n",
       "<p>\n",
       "                Please make sure that Javascript and cookies are enabled on your browser and that you are not blocking\n",
       "                them from loading.\n",
       "            </p>\n",
       "<p>\n",
       "                Reference ID: #9f8cb710-0808-11ec-b306-7976455a4661\n",
       "            </p>\n",
       "</div>\n",
       "</div>\n",
       "<div class=\"page-footer-wrapper\">\n",
       "<div class=\"page-footer\">\n",
       "<p>\n",
       "                Powered by\n",
       "                <a href=\"https://www.perimeterx.com/whywasiblocked\">PerimeterX</a>\n",
       "                , Inc.\n",
       "            </p>\n",
       "</div>\n",
       "</div>\n",
       "</section>\n",
       "<!-- Px -->\n",
       "<script>\n",
       "    window._pxAppId = 'PXlJuB4eTB';\n",
       "    window._pxJsClientSrc = '/lJuB4eTB/init.js';\n",
       "    window._pxFirstPartyEnabled = true;\n",
       "    window._pxVid = '';\n",
       "    window._pxUuid = '9f8cb710-0808-11ec-b306-7976455a4661';\n",
       "    window._pxHostUrl = '/lJuB4eTB/xhr';\n",
       "</script>\n",
       "<script>\n",
       "    var s = document.createElement('script');\n",
       "    s.src = '/lJuB4eTB/captcha/captcha.js?a=c&u=9f8cb710-0808-11ec-b306-7976455a4661&v=&m=0';\n",
       "    var p = document.getElementsByTagName('head')[0];\n",
       "    p.insertBefore(s, null);\n",
       "    if (true) {\n",
       "        s.onerror = function () {\n",
       "            s = document.createElement('script');\n",
       "            var suffixIndex = '/lJuB4eTB/captcha/captcha.js?a=c&u=9f8cb710-0808-11ec-b306-7976455a4661&v=&m=0'.indexOf('captcha.js');\n",
       "            var temperedBlockScript = '/lJuB4eTB/captcha/captcha.js?a=c&u=9f8cb710-0808-11ec-b306-7976455a4661&v=&m=0'.substring(suffixIndex);\n",
       "            s.src = '//captcha.px-cdn.net/PXlJuB4eTB/' + temperedBlockScript;\n",
       "            p.parentNode.insertBefore(s, p);\n",
       "        };\n",
       "    }\n",
       "</script>\n",
       "<!-- Custom Script -->\n",
       "</body>\n",
       "</html>"
      ]
     },
     "execution_count": 30,
     "metadata": {},
     "output_type": "execute_result"
    }
   ],
   "source": [
    "soup"
   ]
  },
  {
   "cell_type": "code",
   "execution_count": 24,
   "id": "54ddb39e-5e1d-4e22-8a20-0cd123531f5a",
   "metadata": {},
   "outputs": [],
   "source": [
    "re_item = re.get(\"https://geocoder.deliveryhero.io/api/v2/reverse?lat=31.478106016731854&lng=74.3279239088697&language=en_PK\")"
   ]
  },
  {
   "cell_type": "code",
   "execution_count": 25,
   "id": "59a786ef-5ddc-472c-9a6d-86e65761a5e0",
   "metadata": {},
   "outputs": [],
   "source": [
    "soup = lux(re_item.text,'lxml')\n"
   ]
  },
  {
   "cell_type": "code",
   "execution_count": 26,
   "id": "93403744-8455-4187-b711-cad4d5602fa4",
   "metadata": {},
   "outputs": [
    {
     "data": {
      "text/plain": [
       "<html><body><p>{\"errors\":[{\"detail\":\"missing authorization header\",\"status\":401}],\"meta\":{\"request_uuid\":\"fccf047b3ccb62ef2d7aaccf7f6db3cb\"}}\n",
       "</p></body></html>"
      ]
     },
     "execution_count": 26,
     "metadata": {},
     "output_type": "execute_result"
    }
   ],
   "source": [
    "soup"
   ]
  },
  {
   "cell_type": "code",
   "execution_count": null,
   "id": "ac349bbf-0575-4aea-acaa-3ee33fa90b82",
   "metadata": {},
   "outputs": [],
   "source": []
  }
 ],
 "metadata": {
  "kernelspec": {
   "display_name": "Python 3",
   "language": "python",
   "name": "python3"
  },
  "language_info": {
   "codemirror_mode": {
    "name": "ipython",
    "version": 3
   },
   "file_extension": ".py",
   "mimetype": "text/x-python",
   "name": "python",
   "nbconvert_exporter": "python",
   "pygments_lexer": "ipython3",
   "version": "3.6.13"
  }
 },
 "nbformat": 4,
 "nbformat_minor": 5
}
