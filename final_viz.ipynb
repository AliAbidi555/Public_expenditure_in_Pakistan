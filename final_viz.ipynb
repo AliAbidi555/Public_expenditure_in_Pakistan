{
 "cells": [
  {
   "cell_type": "code",
   "execution_count": 28,
   "id": "65c5e696-01ec-41cf-bfe2-1f66ff4a2944",
   "metadata": {},
   "outputs": [],
   "source": [
    "import pandas as pd\n",
    "import numpy as np\n",
    "import geopandas as gpd\n",
    "import sys\n",
    "\n",
    "from shapely.ops import transform\n",
    "from shapely import wkt\n",
    "\n",
    "from keplergl import KeplerGl\n",
    "\n",
    "sys.path.insert(1, '../config/')\n",
    "import kepler_finalviz_configs\n",
    "\n",
    "%matplotlib inline\n",
    "%config Completer.use_jedi = False\n",
    "pd.options.display.max_columns = None"
   ]
  },
  {
   "cell_type": "code",
   "execution_count": 2,
   "id": "0f467c67-bf15-44ea-a786-4ee50fdd9e14",
   "metadata": {},
   "outputs": [],
   "source": [
    "def flip(x, y):\n",
    "    \"\"\"Flips the x and y coordinate values\"\"\"\n",
    "    return y, x"
   ]
  },
  {
   "cell_type": "code",
   "execution_count": 3,
   "id": "29a527f1-69c8-4e82-ba60-b5871c7751ea",
   "metadata": {},
   "outputs": [],
   "source": [
    "def func_assign_hies_to_grid(hies_df_path,grid_df_path):\n",
    "    hies_df = pd.read_csv(hies_df_path)\n",
    "    hies_df = hies_df.rename(columns={\n",
    "    'Unnamed: 0':'vor_id',\n",
    "    '0':'value'\n",
    "    })\n",
    "    grid = gpd.read_file(grid_df_path)\n",
    "    \n",
    "    hies_gpd = pd.merge(grid,hies_df,on='vor_id',how='inner')\n",
    "    hies_gpd['geometry'] = hies_gpd.geometry.apply(lambda x: transform(flip,x))\n",
    "    hies_gpd = gpd.GeoDataFrame(hies_gpd,geometry='geometry')\n",
    "    hies_gpd['million_pkr'] = hies_gpd.value.apply(lambda x: str(round(x/1000000,2))+'M')\n",
    "    \n",
    "    return hies_gpd\n",
    "\n",
    "def func_save_map_for_hies(hies_gpd,map_path,city_config):\n",
    "    map_ = KeplerGl(height=5000)\n",
    "    map_.add_data(data=hies_gpd,name='value')\n",
    "    map_.save_to_html(file_name=map_path,config=city_config,read_only=True)"
   ]
  },
  {
   "cell_type": "markdown",
   "id": "7fd237ed-e9b3-44c6-9207-80da465834f2",
   "metadata": {
    "tags": []
   },
   "source": [
    "## Karachi\n"
   ]
  },
  {
   "cell_type": "code",
   "execution_count": 3,
   "id": "1afb0ee2-0c6f-4b85-9a88-eed38c367b39",
   "metadata": {},
   "outputs": [
    {
     "name": "stdout",
     "output_type": "stream",
     "text": [
      "User Guide: https://docs.kepler.gl/docs/keplergl-jupyter\n",
      "Map saved to ../viz/final_viz/khi_women_clothing.html!\n"
     ]
    }
   ],
   "source": [
    "### women's clothing\n",
    "\n",
    "women_clothing = pd.read_csv('../data/final_model/men_clothing_khi.csv')\n",
    "women_clothing = women_clothing.rename(columns={\n",
    "'Unnamed: 0':'vor_id',\n",
    "'0':'value'\n",
    "})\n",
    "\n",
    "#pick grid here\n",
    "grid = gpd.read_file('../data/vector/dev/KARACHI/karachi_voronoi_fishnet.shp')\n",
    "\n",
    "women_clothing_gpd = pd.merge(grid,women_clothing,on='vor_id',how='inner')\n",
    "women_clothing_gpd['geometry'] = women_clothing_gpd.geometry.apply(lambda x: transform(flip,x))\n",
    "women_clothing_gpd = gpd.GeoDataFrame(women_clothing_gpd,geometry='geometry')\n",
    "women_clothing_gpd['million_pkr'] = women_clothing_gpd.value.apply(lambda x: str(round(x/1000000,2))+'M')\n",
    "\n",
    "map_ = KeplerGl(height=5000)\n",
    "map_.add_data(data=women_clothing_gpd,name='clothing')\n",
    "map_.save_to_html(file_name='../viz/final_viz/khi_women_clothing.html',config=kepler_finalviz_configs.karachi_config,read_only=True)"
   ]
  },
  {
   "cell_type": "code",
   "execution_count": 14,
   "id": "43d06bee-78f5-4994-bb17-8e66efbadc01",
   "metadata": {},
   "outputs": [
    {
     "name": "stdout",
     "output_type": "stream",
     "text": [
      "User Guide: https://docs.kepler.gl/docs/keplergl-jupyter\n",
      "Map saved to ../viz/final_viz/khi_transport.html!\n",
      "User Guide: https://docs.kepler.gl/docs/keplergl-jupyter\n",
      "Map saved to ../viz/final_viz/khi_private_school.html!\n",
      "User Guide: https://docs.kepler.gl/docs/keplergl-jupyter\n",
      "Map saved to ../viz/final_viz/khi_men_clothing.html!\n",
      "User Guide: https://docs.kepler.gl/docs/keplergl-jupyter\n",
      "Map saved to ../viz/final_viz/khi_medical.html!\n",
      "User Guide: https://docs.kepler.gl/docs/keplergl-jupyter\n",
      "Map saved to ../viz/final_viz/khi_internet.html!\n",
      "User Guide: https://docs.kepler.gl/docs/keplergl-jupyter\n",
      "Map saved to ../viz/final_viz/khi_govt_school.html!\n",
      "User Guide: https://docs.kepler.gl/docs/keplergl-jupyter\n",
      "Map saved to ../viz/final_viz/khi_fuel.html!\n",
      "User Guide: https://docs.kepler.gl/docs/keplergl-jupyter\n",
      "Map saved to ../viz/final_viz/khi_bread_other.html!\n",
      "User Guide: https://docs.kepler.gl/docs/keplergl-jupyter\n",
      "Map saved to ../viz/final_viz/khi_bread_basic.html!\n"
     ]
    }
   ],
   "source": [
    "### transport\n",
    "grid_path  = '../data/vector/dev/KARACHI/karachi_voronoi_fishnet.shp'\n",
    "city_config = kepler_finalviz_configs.karachi_config\n",
    "\n",
    "hies_gpd = func_assign_hies_to_grid('../data/final_model/transport_khi.csv',grid_path)\n",
    "func_save_map_for_hies(hies_gpd=hies_gpd,map_path='../viz/final_viz/khi_transport.html',city_config=city_config)\n",
    "\n",
    "### private schools\n",
    "hies_gpd = func_assign_hies_to_grid('../data/final_model/private_school_khi.csv',grid_path)\n",
    "func_save_map_for_hies(hies_gpd=hies_gpd,map_path='../viz/final_viz/khi_private_school.html',city_config=city_config)\n",
    "\n",
    "### men clothing\n",
    "hies_gpd = func_assign_hies_to_grid('../data/final_model/men_clothing_khi.csv',grid_path)\n",
    "func_save_map_for_hies(hies_gpd=hies_gpd,map_path='../viz/final_viz/khi_men_clothing.html',city_config=city_config)\n",
    "\n",
    "### medical\n",
    "hies_gpd = func_assign_hies_to_grid('../data/final_model/medical_khi.csv',grid_path)\n",
    "func_save_map_for_hies(hies_gpd=hies_gpd,map_path='../viz/final_viz/khi_medical.html',city_config=city_config)\n",
    "\n",
    "### internet\n",
    "hies_gpd = func_assign_hies_to_grid('../data/final_model/internet_khi.csv',grid_path)\n",
    "func_save_map_for_hies(hies_gpd=hies_gpd,map_path='../viz/final_viz/khi_internet.html',city_config=city_config)\n",
    "\n",
    "### govt schools\n",
    "hies_gpd = func_assign_hies_to_grid('../data/final_model/govt_school_khi.csv',grid_path)\n",
    "func_save_map_for_hies(hies_gpd=hies_gpd,map_path='../viz/final_viz/khi_govt_school.html',city_config=city_config)\n",
    "\n",
    "### fuel\n",
    "hies_gpd = func_assign_hies_to_grid('../data/final_model/fuel_khi.csv',grid_path)\n",
    "func_save_map_for_hies(hies_gpd=hies_gpd,map_path='../viz/final_viz/khi_fuel.html',city_config=city_config)\n",
    "\n",
    "### bread_other\n",
    "hies_gpd = func_assign_hies_to_grid('../data/final_model/bread_other_khi.csv',grid_path)\n",
    "func_save_map_for_hies(hies_gpd=hies_gpd,map_path='../viz/final_viz/khi_bread_other.html',city_config=city_config)\n",
    "\n",
    "### bread_basic\n",
    "hies_gpd = func_assign_hies_to_grid('../data/final_model/bread_basic_khi.csv',grid_path)\n",
    "func_save_map_for_hies(hies_gpd=hies_gpd,map_path='../viz/final_viz/khi_bread_basic.html',city_config=city_config)"
   ]
  },
  {
   "cell_type": "markdown",
   "id": "dead4fca-c1ec-4935-a252-3afa22aa36d2",
   "metadata": {},
   "source": [
    "### transport"
   ]
  },
  {
   "cell_type": "markdown",
   "id": "8a79d9c9-0784-4c94-9e5f-85de6dcdfee8",
   "metadata": {},
   "source": [
    "## Lahore"
   ]
  },
  {
   "cell_type": "code",
   "execution_count": 4,
   "id": "be758017-4c50-4de6-a112-f0660f7e794d",
   "metadata": {},
   "outputs": [
    {
     "name": "stdout",
     "output_type": "stream",
     "text": [
      "User Guide: https://docs.kepler.gl/docs/keplergl-jupyter\n",
      "Map saved to ../viz/final_viz/lhr_women_clothing.html!\n"
     ]
    }
   ],
   "source": [
    "women_clothing = pd.read_csv('../data/final_model/women_clothing_lhr.csv')\n",
    "women_clothing = women_clothing.rename(columns={\n",
    "'Unnamed: 0':'vor_id',\n",
    "'0':'value'\n",
    "})\n",
    "\n",
    "#pick grid here\n",
    "grid = gpd.read_file('../data/vector/dev/LAHORE/lahore_voronoi_fishnet_1000m.shp')\n",
    "\n",
    "women_clothing_gpd = pd.merge(grid,women_clothing,on='vor_id',how='inner')\n",
    "women_clothing_gpd['geometry'] = women_clothing_gpd.geometry.apply(lambda x: transform(flip,x))\n",
    "women_clothing_gpd = gpd.GeoDataFrame(women_clothing_gpd,geometry='geometry')\n",
    "women_clothing_gpd['million_pkr'] = women_clothing_gpd.value.apply(lambda x: str(round(x/1000000,2))+'M')\n",
    "\n",
    "map_ = KeplerGl(height=5000)\n",
    "map_.add_data(data=women_clothing_gpd,name='clothing')\n",
    "map_.save_to_html(file_name='../viz/final_viz/lhr_women_clothing.html',config=kepler_finalviz_configs.lahore_config,read_only=True)"
   ]
  },
  {
   "cell_type": "code",
   "execution_count": 13,
   "id": "28178255-5664-4cdc-b0e9-1ed47dced719",
   "metadata": {},
   "outputs": [
    {
     "name": "stdout",
     "output_type": "stream",
     "text": [
      "User Guide: https://docs.kepler.gl/docs/keplergl-jupyter\n",
      "Map saved to ../viz/final_viz/lhr_transport.html!\n",
      "User Guide: https://docs.kepler.gl/docs/keplergl-jupyter\n",
      "Map saved to ../viz/final_viz/lhr_private_school.html!\n",
      "User Guide: https://docs.kepler.gl/docs/keplergl-jupyter\n",
      "Map saved to ../viz/final_viz/lhr_men_clothing.html!\n",
      "User Guide: https://docs.kepler.gl/docs/keplergl-jupyter\n",
      "Map saved to ../viz/final_viz/lhr_medical.html!\n",
      "User Guide: https://docs.kepler.gl/docs/keplergl-jupyter\n",
      "Map saved to ../viz/final_viz/lhr_internet.html!\n",
      "User Guide: https://docs.kepler.gl/docs/keplergl-jupyter\n",
      "Map saved to ../viz/final_viz/lhr_govt_school.html!\n",
      "User Guide: https://docs.kepler.gl/docs/keplergl-jupyter\n",
      "Map saved to ../viz/final_viz/lhr_fuel.html!\n",
      "User Guide: https://docs.kepler.gl/docs/keplergl-jupyter\n",
      "Map saved to ../viz/final_viz/lhr_bread_other.html!\n",
      "User Guide: https://docs.kepler.gl/docs/keplergl-jupyter\n",
      "Map saved to ../viz/final_viz/lhr_bread_basic.html!\n"
     ]
    }
   ],
   "source": [
    "### transport\n",
    "grid_path  = '../data/vector/dev/LAHORE/lahore_voronoi_fishnet_1000m.shp'\n",
    "city_config = kepler_finalviz_configs.lahore_config\n",
    "\n",
    "hies_gpd = func_assign_hies_to_grid('../data/final_model/transport_lhr.csv',grid_path)\n",
    "func_save_map_for_hies(hies_gpd=hies_gpd,map_path='../viz/final_viz/lhr_transport.html',city_config=city_config)\n",
    "\n",
    "### private schools\n",
    "hies_gpd = func_assign_hies_to_grid('../data/final_model/private_school_lhr.csv',grid_path)\n",
    "func_save_map_for_hies(hies_gpd=hies_gpd,map_path='../viz/final_viz/lhr_private_school.html',city_config=city_config)\n",
    "\n",
    "### men clothing\n",
    "hies_gpd = func_assign_hies_to_grid('../data/final_model/men_clothing_lhr.csv',grid_path)\n",
    "func_save_map_for_hies(hies_gpd=hies_gpd,map_path='../viz/final_viz/lhr_men_clothing.html',city_config=city_config)\n",
    "\n",
    "### medical\n",
    "hies_gpd = func_assign_hies_to_grid('../data/final_model/medical_lhr.csv',grid_path)\n",
    "func_save_map_for_hies(hies_gpd=hies_gpd,map_path='../viz/final_viz/lhr_medical.html',city_config=city_config)\n",
    "\n",
    "### internet\n",
    "hies_gpd = func_assign_hies_to_grid('../data/final_model/internet_lhr.csv',grid_path)\n",
    "func_save_map_for_hies(hies_gpd=hies_gpd,map_path='../viz/final_viz/lhr_internet.html',city_config=city_config)\n",
    "\n",
    "### govt schools\n",
    "hies_gpd = func_assign_hies_to_grid('../data/final_model/govt_school_lhr.csv',grid_path)\n",
    "func_save_map_for_hies(hies_gpd=hies_gpd,map_path='../viz/final_viz/lhr_govt_school.html',city_config=city_config)\n",
    "\n",
    "### fuel\n",
    "hies_gpd = func_assign_hies_to_grid('../data/final_model/fuel_lhr.csv',grid_path)\n",
    "func_save_map_for_hies(hies_gpd=hies_gpd,map_path='../viz/final_viz/lhr_fuel.html',city_config=city_config)\n",
    "\n",
    "### bread_other\n",
    "hies_gpd = func_assign_hies_to_grid('../data/final_model/bread_other_lhr.csv',grid_path)\n",
    "func_save_map_for_hies(hies_gpd=hies_gpd,map_path='../viz/final_viz/lhr_bread_other.html',city_config=city_config)\n",
    "\n",
    "### bread_basic\n",
    "hies_gpd = func_assign_hies_to_grid('../data/final_model/bread_basic_lhr.csv',grid_path)\n",
    "func_save_map_for_hies(hies_gpd=hies_gpd,map_path='../viz/final_viz/lhr_bread_basic.html',city_config=city_config)"
   ]
  },
  {
   "cell_type": "markdown",
   "id": "75a7c29b-064d-4af9-823f-0111567236f6",
   "metadata": {},
   "source": [
    "## Islamabad"
   ]
  },
  {
   "cell_type": "code",
   "execution_count": 5,
   "id": "71317448-2629-4242-a8bf-ceaa3f5b3480",
   "metadata": {},
   "outputs": [
    {
     "name": "stdout",
     "output_type": "stream",
     "text": [
      "User Guide: https://docs.kepler.gl/docs/keplergl-jupyter\n",
      "Map saved to ../viz/final_viz/isb_women_clothing.html!\n"
     ]
    }
   ],
   "source": [
    "women_clothing = pd.read_csv('../data/final_model/women_clothing_isb.csv')\n",
    "women_clothing = women_clothing.rename(columns={\n",
    "'Unnamed: 0':'vor_id',\n",
    "'0':'value'\n",
    "})\n",
    "\n",
    "#pick grid here\n",
    "grid = gpd.read_file('../data/vector/dev/ISLAMABAD/islamabad_voronoi_fishnet.shp')\n",
    "\n",
    "women_clothing_gpd = pd.merge(grid,women_clothing,on='vor_id',how='inner')\n",
    "women_clothing_gpd['geometry'] = women_clothing_gpd.geometry.apply(lambda x: transform(flip,x))\n",
    "women_clothing_gpd = gpd.GeoDataFrame(women_clothing_gpd,geometry='geometry')\n",
    "women_clothing_gpd['million_pkr'] = women_clothing_gpd.value.apply(lambda x: str(round(x/1000000,2))+'M')\n",
    "\n",
    "map_ = KeplerGl(height=5000)\n",
    "map_.add_data(data=women_clothing_gpd,name='clothing')\n",
    "map_.save_to_html(file_name='../viz/final_viz/isb_women_clothing.html',config=kepler_finalviz_configs.islamabad_config,read_only=True)"
   ]
  },
  {
   "cell_type": "code",
   "execution_count": 12,
   "id": "0c293a61-3349-478c-90bd-9165d52f970b",
   "metadata": {},
   "outputs": [
    {
     "name": "stdout",
     "output_type": "stream",
     "text": [
      "User Guide: https://docs.kepler.gl/docs/keplergl-jupyter\n",
      "Map saved to ../viz/final_viz/isb_transport.html!\n",
      "User Guide: https://docs.kepler.gl/docs/keplergl-jupyter\n",
      "Map saved to ../viz/final_viz/isb_private_school.html!\n",
      "User Guide: https://docs.kepler.gl/docs/keplergl-jupyter\n",
      "Map saved to ../viz/final_viz/isb_men_clothing.html!\n",
      "User Guide: https://docs.kepler.gl/docs/keplergl-jupyter\n",
      "Map saved to ../viz/final_viz/isb_medical.html!\n",
      "User Guide: https://docs.kepler.gl/docs/keplergl-jupyter\n",
      "Map saved to ../viz/final_viz/isb_internet.html!\n",
      "User Guide: https://docs.kepler.gl/docs/keplergl-jupyter\n",
      "Map saved to ../viz/final_viz/isb_govt_school.html!\n",
      "User Guide: https://docs.kepler.gl/docs/keplergl-jupyter\n",
      "Map saved to ../viz/final_viz/isb_fuel.html!\n",
      "User Guide: https://docs.kepler.gl/docs/keplergl-jupyter\n",
      "Map saved to ../viz/final_viz/isb_bread_other.html!\n",
      "User Guide: https://docs.kepler.gl/docs/keplergl-jupyter\n",
      "Map saved to ../viz/final_viz/isb_bread_basic.html!\n"
     ]
    }
   ],
   "source": [
    "### transport\n",
    "grid_path  = '../data/vector/dev/ISLAMABAD/islamabad_voronoi_fishnet.shp'\n",
    "city_config = kepler_finalviz_configs.islamabad_config\n",
    "\n",
    "hies_gpd = func_assign_hies_to_grid('../data/final_model/transport_isb.csv',grid_path)\n",
    "func_save_map_for_hies(hies_gpd=hies_gpd,map_path='../viz/final_viz/isb_transport.html',city_config=city_config)\n",
    "\n",
    "### private schools\n",
    "hies_gpd = func_assign_hies_to_grid('../data/final_model/private_school_isb.csv',grid_path)\n",
    "func_save_map_for_hies(hies_gpd=hies_gpd,map_path='../viz/final_viz/isb_private_school.html',city_config=city_config)\n",
    "\n",
    "### men clothing\n",
    "hies_gpd = func_assign_hies_to_grid('../data/final_model/men_clothing_isb.csv',grid_path)\n",
    "func_save_map_for_hies(hies_gpd=hies_gpd,map_path='../viz/final_viz/isb_men_clothing.html',city_config=city_config)\n",
    "\n",
    "### medical\n",
    "hies_gpd = func_assign_hies_to_grid('../data/final_model/medical_isb.csv',grid_path)\n",
    "func_save_map_for_hies(hies_gpd=hies_gpd,map_path='../viz/final_viz/isb_medical.html',city_config=city_config)\n",
    "\n",
    "### internet\n",
    "hies_gpd = func_assign_hies_to_grid('../data/final_model/internet_isb.csv',grid_path)\n",
    "func_save_map_for_hies(hies_gpd=hies_gpd,map_path='../viz/final_viz/isb_internet.html',city_config=city_config)\n",
    "\n",
    "### govt schools\n",
    "hies_gpd = func_assign_hies_to_grid('../data/final_model/govt_school_isb.csv',grid_path)\n",
    "func_save_map_for_hies(hies_gpd=hies_gpd,map_path='../viz/final_viz/isb_govt_school.html',city_config=city_config)\n",
    "\n",
    "### fuel\n",
    "hies_gpd = func_assign_hies_to_grid('../data/final_model/fuel_isb.csv',grid_path)\n",
    "func_save_map_for_hies(hies_gpd=hies_gpd,map_path='../viz/final_viz/isb_fuel.html',city_config=city_config)\n",
    "\n",
    "### bread_other\n",
    "hies_gpd = func_assign_hies_to_grid('../data/final_model/bread_other_isb.csv',grid_path)\n",
    "func_save_map_for_hies(hies_gpd=hies_gpd,map_path='../viz/final_viz/isb_bread_other.html',city_config=city_config)\n",
    "\n",
    "### bread_basic\n",
    "hies_gpd = func_assign_hies_to_grid('../data/final_model/bread_basic_isb.csv',grid_path)\n",
    "func_save_map_for_hies(hies_gpd=hies_gpd,map_path='../viz/final_viz/isb_bread_basic.html',city_config=city_config)"
   ]
  },
  {
   "cell_type": "markdown",
   "id": "be56403d-47bf-47c1-b922-cce68f2ae617",
   "metadata": {},
   "source": [
    "## see what are per capita values"
   ]
  },
  {
   "cell_type": "code",
   "execution_count": 84,
   "id": "31ce7924-d2e6-4709-b6c1-aaf615688ec5",
   "metadata": {},
   "outputs": [],
   "source": [
    "lhr_pop = pd.read_csv('../data/summary-stats/isb_pop_vor_fb_general.csv')\n",
    "lhr_spend = pd.read_csv('../data/final_model/bread_basic_isb.csv')"
   ]
  },
  {
   "cell_type": "code",
   "execution_count": 85,
   "id": "839ab0f1-e5e2-4f2f-a0ed-5036950ee231",
   "metadata": {},
   "outputs": [],
   "source": [
    "lhr_spend = lhr_spend.rename(columns={'Unnamed: 0':'vor_id','0':'spend'})"
   ]
  },
  {
   "cell_type": "code",
   "execution_count": 86,
   "id": "5051f34c-1411-4f3a-99c3-06b5b565a985",
   "metadata": {},
   "outputs": [],
   "source": [
    "lhr_pop = lhr_pop.merge(lhr_spend)"
   ]
  },
  {
   "cell_type": "code",
   "execution_count": 87,
   "id": "b6c5dd75-4442-4f11-b4ad-3ba751b935eb",
   "metadata": {},
   "outputs": [],
   "source": [
    "lhr_pop['spend_per_capita'] = lhr_pop['spend']/lhr_pop['sum_pop_general']"
   ]
  },
  {
   "cell_type": "code",
   "execution_count": 88,
   "id": "f98f2fa1-a698-4c8d-b25e-f8380a0dd068",
   "metadata": {},
   "outputs": [],
   "source": [
    "lhr_pop['spend_per_capita'] = np.round(lhr_pop['spend_per_capita'],decimals=3)"
   ]
  },
  {
   "cell_type": "code",
   "execution_count": 89,
   "id": "0c950f7b-5921-410d-add2-2226caa36a0f",
   "metadata": {},
   "outputs": [],
   "source": [
    "lhr_pop['geometry'] = lhr_pop.geometry.apply(lambda x: wkt.loads(x))"
   ]
  },
  {
   "cell_type": "code",
   "execution_count": 90,
   "id": "60e3a813-46df-4638-bc82-9f1379e896c5",
   "metadata": {},
   "outputs": [],
   "source": [
    "lhr_pop_gpd = gpd.GeoDataFrame(lhr_pop,geometry='geometry')"
   ]
  },
  {
   "cell_type": "code",
   "execution_count": 91,
   "id": "9f8933af-fb07-49f4-9505-e476cac4f907",
   "metadata": {},
   "outputs": [
    {
     "name": "stdout",
     "output_type": "stream",
     "text": [
      "User Guide: https://docs.kepler.gl/docs/keplergl-jupyter\n",
      "Map saved to ../viz/per_capita_test.html!\n"
     ]
    }
   ],
   "source": [
    "map_ = KeplerGl(height=5000)\n",
    "map_.add_data(data=lhr_pop_gpd,name='lhr_spend_per_capita')\n",
    "map_.save_to_html(file_name='../viz/per_capita_test.html',config=kepler_finalviz_configs.islamabad_config,read_only=False)"
   ]
  },
  {
   "cell_type": "code",
   "execution_count": null,
   "id": "9b171816-4e94-4f11-aabf-0d676ef80aaa",
   "metadata": {},
   "outputs": [],
   "source": []
  }
 ],
 "metadata": {
  "kernelspec": {
   "display_name": "Python 3",
   "language": "python",
   "name": "python3"
  },
  "language_info": {
   "codemirror_mode": {
    "name": "ipython",
    "version": 3
   },
   "file_extension": ".py",
   "mimetype": "text/x-python",
   "name": "python",
   "nbconvert_exporter": "python",
   "pygments_lexer": "ipython3",
   "version": "3.6.13"
  }
 },
 "nbformat": 4,
 "nbformat_minor": 5
}
