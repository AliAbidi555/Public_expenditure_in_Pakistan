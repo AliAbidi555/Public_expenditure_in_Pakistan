{
 "cells": [
  {
   "cell_type": "code",
   "execution_count": 77,
   "id": "7f8b1682-ddd8-4249-b023-54f44f3dcfd0",
   "metadata": {},
   "outputs": [],
   "source": [
    "import pandas as pd\n",
    "import numpy as np\n",
    "import geopandas as gpd\n",
    "import shapely\n",
    "import sys\n",
    "import warnings\n",
    "\n",
    "from keplergl import KeplerGl\n",
    "\n",
    "sys.path.insert(1, '../config/')\n",
    "import kepler_configs\n",
    "\n",
    "\n",
    "warnings.filterwarnings('ignore')\n",
    "%config Completer.use_jedi = False"
   ]
  },
  {
   "cell_type": "code",
   "execution_count": 81,
   "id": "bc4ffaca-3b9e-40bf-983d-01f051907151",
   "metadata": {},
   "outputs": [],
   "source": [
    "def func_get_Point(row):\n",
    "    return shapely.geometry.Point(row.Latitude,row.Longitude)\n",
    "\n",
    "def func_flip(x, y):\n",
    "    \"\"\"Flips the x and y coordinate values\"\"\"\n",
    "    return y, x"
   ]
  },
  {
   "cell_type": "code",
   "execution_count": 2,
   "id": "b7d77cfc-77e8-439f-a79f-5da92bff30e3",
   "metadata": {},
   "outputs": [],
   "source": [
    "nielson_td = pd.read_excel('../data/raw/nielson_td.xlsx',engine='openpyxl')\n",
    "lahore_vor = gpd.read_file('../data/vector/dev/LAHORE/gmaps_places/lahore_voronoi_fishnet_1000m_updated.shp')"
   ]
  },
  {
   "cell_type": "code",
   "execution_count": 33,
   "id": "0b905125-8626-4189-844d-261eab52adb7",
   "metadata": {},
   "outputs": [],
   "source": [
    "nielson_td = nielson_td.dropna(subset=['Latitude'])\n",
    "nielson_td.reset_index(inplace=True,drop=True)\n",
    "nielson_td['geometry'] = nielson_td.apply(func_get_Point,1)\n",
    "nielson_td_gpd = gpd.GeoDataFrame(nielson_td,geometry='geometry')\n",
    "#nielson_td_gpd.to_file('../data/nielson/nielson_td.shp')"
   ]
  },
  {
   "cell_type": "code",
   "execution_count": 64,
   "id": "fae4e635-8553-4407-9686-1ec98cc85999",
   "metadata": {},
   "outputs": [],
   "source": [
    "nielson_td_vor = gpd.sjoin(lahore_vor,nielson_td_gpd,how='right',op='contains')\n",
    "nielson_td_vor = nielson_td_vor.dropna(subset=['vor_id']).reset_index(drop=True)"
   ]
  },
  {
   "cell_type": "code",
   "execution_count": 73,
   "id": "4aaccd46-b2ad-4348-9c94-7f80d5e494d7",
   "metadata": {},
   "outputs": [],
   "source": [
    "nielson_td_vor =  nielson_td_vor[['vor_id','TDLinx','Outlet Type','Channel Band',\n",
    "               'Store Monthly Turnover by Interview','Store Monthly Turnover by Obeservation',\n",
    "               'Credit / Debit Card Machine','geometry']]"
   ]
  },
  {
   "cell_type": "code",
   "execution_count": 75,
   "id": "3de3c7b2-7637-4250-b910-b48862289b20",
   "metadata": {},
   "outputs": [],
   "source": [
    "nielson_td_vor = nielson_td_vor.rename(columns={'Outlet Type':'type',\n",
    "                              'Channel Band':'channel',\n",
    "                              'Store Monthly Turnover by Interview':'turnover_int',\n",
    "                              'Store Monthly Turnover by Obeservation':'turnover_obs',\n",
    "                              'Credit / Debit Card Machine':'card_machine'})"
   ]
  },
  {
   "cell_type": "code",
   "execution_count": 82,
   "id": "a29eea3a-deee-485e-b3c1-6595b738d557",
   "metadata": {},
   "outputs": [],
   "source": [
    "nielson_td_vor['geometry'] = nielson_td_vor.geometry.apply(lambda x: shapely.ops.transform(func_flip,x))\n",
    "lahore_vor['geometry'] = lahore_vor.geometry.apply(lambda x: shapely.ops.transform(func_flip,x))"
   ]
  },
  {
   "cell_type": "code",
   "execution_count": 83,
   "id": "ab4a8ec8-9c34-4f04-b9b8-0d499734fa33",
   "metadata": {},
   "outputs": [
    {
     "name": "stdout",
     "output_type": "stream",
     "text": [
      "User Guide: https://docs.kepler.gl/docs/keplergl-jupyter\n"
     ]
    }
   ],
   "source": [
    "map_ = KeplerGl(height=2000)"
   ]
  },
  {
   "cell_type": "code",
   "execution_count": 84,
   "id": "56df919e-f4c2-4ca2-a20e-1428b18bb5b4",
   "metadata": {},
   "outputs": [],
   "source": [
    "map_.add_data(data=nielson_td_vor,name='neilson')\n",
    "map_.add_data(data=lahore_vor,name='lahore_vor')"
   ]
  },
  {
   "cell_type": "code",
   "execution_count": 85,
   "id": "ebc776be-df2a-496b-b97d-1014a4eeaf2e",
   "metadata": {},
   "outputs": [
    {
     "name": "stdout",
     "output_type": "stream",
     "text": [
      "Map saved to temp.html!\n"
     ]
    }
   ],
   "source": [
    "map_.save_to_html(file_name='temp.html')"
   ]
  },
  {
   "cell_type": "code",
   "execution_count": 88,
   "id": "d47e4176-6b0e-4426-b64f-c91878a827b8",
   "metadata": {},
   "outputs": [],
   "source": [
    "nielson_td_vor_unagg = nielson_td_vor.drop(columns=['geometry'])"
   ]
  },
  {
   "cell_type": "code",
   "execution_count": 91,
   "id": "e375645b-7db8-48f1-b14a-10a8b3d3b030",
   "metadata": {},
   "outputs": [],
   "source": [
    "nielson_td_vor_unagg = nielson_td_vor_unagg.merge(nielson_td[['TDLinx','Latitude','Longitude']])"
   ]
  },
  {
   "cell_type": "code",
   "execution_count": 92,
   "id": "57a62b73-ab13-465b-af19-29d0ed531636",
   "metadata": {},
   "outputs": [],
   "source": [
    "nielson_td_vor_unagg.to_csv('../data/processed/lahore_unagg_nielson.csv')"
   ]
  },
  {
   "cell_type": "code",
   "execution_count": null,
   "id": "fa276553-b023-4d80-8c37-6771b0a05c94",
   "metadata": {},
   "outputs": [],
   "source": []
  }
 ],
 "metadata": {
  "kernelspec": {
   "display_name": "Python 3",
   "language": "python",
   "name": "python3"
  },
  "language_info": {
   "codemirror_mode": {
    "name": "ipython",
    "version": 3
   },
   "file_extension": ".py",
   "mimetype": "text/x-python",
   "name": "python",
   "nbconvert_exporter": "python",
   "pygments_lexer": "ipython3",
   "version": "3.6.13"
  }
 },
 "nbformat": 4,
 "nbformat_minor": 5
}
